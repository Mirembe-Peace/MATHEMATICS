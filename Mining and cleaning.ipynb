{
 "cells": [
  {
   "attachments": {},
   "cell_type": "markdown",
   "metadata": {},
   "source": [
    "## DATA MINING AND CLEANING ##\n"
   ]
  },
  {
   "attachments": {},
   "cell_type": "markdown",
   "metadata": {},
   "source": [
    "IMPORTING DATASETS USING PYTHON LIBRARIES\n"
   ]
  },
  {
   "cell_type": "code",
   "execution_count": null,
   "metadata": {},
   "outputs": [],
   "source": [
    "#Installing necessary libraries\n",
    "!pip install pandas #imports datasets\n",
    "!pip install numpy #formatting the data"
   ]
  },
  {
   "cell_type": "code",
   "execution_count": 1,
   "metadata": {},
   "outputs": [],
   "source": [
    "# First import the necessary libraries\n",
    "import numpy as numpy  #Supports pandas and Imports dataset in tabular format\n",
    "import pandas as pd     #Imports datasets of any format"
   ]
  },
  {
   "attachments": {},
   "cell_type": "markdown",
   "metadata": {},
   "source": [
    "#Import the dataset\n",
    "#Dataset \"Female_Mps.csv\" is about percencentage female representation in government from 1945-2021"
   ]
  },
  {
   "cell_type": "code",
   "execution_count": 2,
   "metadata": {},
   "outputs": [
    {
     "data": {
      "text/html": [
       "<div>\n",
       "<style scoped>\n",
       "    .dataframe tbody tr th:only-of-type {\n",
       "        vertical-align: middle;\n",
       "    }\n",
       "\n",
       "    .dataframe tbody tr th {\n",
       "        vertical-align: top;\n",
       "    }\n",
       "\n",
       "    .dataframe thead th {\n",
       "        text-align: right;\n",
       "    }\n",
       "</style>\n",
       "<table border=\"1\" class=\"dataframe\">\n",
       "  <thead>\n",
       "    <tr style=\"text-align: right;\">\n",
       "      <th></th>\n",
       "      <th>country</th>\n",
       "      <th>1945</th>\n",
       "      <th>1946</th>\n",
       "      <th>1947</th>\n",
       "      <th>1948</th>\n",
       "      <th>1949</th>\n",
       "      <th>1950</th>\n",
       "      <th>1951</th>\n",
       "      <th>1952</th>\n",
       "      <th>1953</th>\n",
       "      <th>...</th>\n",
       "      <th>2012</th>\n",
       "      <th>2013</th>\n",
       "      <th>2014</th>\n",
       "      <th>2015</th>\n",
       "      <th>2016</th>\n",
       "      <th>2017</th>\n",
       "      <th>2018</th>\n",
       "      <th>2019</th>\n",
       "      <th>2020</th>\n",
       "      <th>2021</th>\n",
       "    </tr>\n",
       "  </thead>\n",
       "  <tbody>\n",
       "    <tr>\n",
       "      <th>0</th>\n",
       "      <td>Afghanistan</td>\n",
       "      <td>NaN</td>\n",
       "      <td>NaN</td>\n",
       "      <td>NaN</td>\n",
       "      <td>NaN</td>\n",
       "      <td>NaN</td>\n",
       "      <td>NaN</td>\n",
       "      <td>NaN</td>\n",
       "      <td>NaN</td>\n",
       "      <td>NaN</td>\n",
       "      <td>...</td>\n",
       "      <td>27.40</td>\n",
       "      <td>27.40</td>\n",
       "      <td>27.40</td>\n",
       "      <td>27.40</td>\n",
       "      <td>27.7</td>\n",
       "      <td>27.8</td>\n",
       "      <td>27.9</td>\n",
       "      <td>27.2</td>\n",
       "      <td>27.2</td>\n",
       "      <td>27.20</td>\n",
       "    </tr>\n",
       "    <tr>\n",
       "      <th>1</th>\n",
       "      <td>Angola</td>\n",
       "      <td>NaN</td>\n",
       "      <td>NaN</td>\n",
       "      <td>NaN</td>\n",
       "      <td>NaN</td>\n",
       "      <td>NaN</td>\n",
       "      <td>NaN</td>\n",
       "      <td>NaN</td>\n",
       "      <td>NaN</td>\n",
       "      <td>NaN</td>\n",
       "      <td>...</td>\n",
       "      <td>34.10</td>\n",
       "      <td>33.50</td>\n",
       "      <td>32.80</td>\n",
       "      <td>32.20</td>\n",
       "      <td>31.6</td>\n",
       "      <td>30.9</td>\n",
       "      <td>30.4</td>\n",
       "      <td>30.0</td>\n",
       "      <td>29.6</td>\n",
       "      <td>29.60</td>\n",
       "    </tr>\n",
       "    <tr>\n",
       "      <th>2</th>\n",
       "      <td>Albania</td>\n",
       "      <td>3.66</td>\n",
       "      <td>6.46</td>\n",
       "      <td>8.81</td>\n",
       "      <td>10.80</td>\n",
       "      <td>12.50</td>\n",
       "      <td>14.10</td>\n",
       "      <td>13.50</td>\n",
       "      <td>12.90</td>\n",
       "      <td>12.40</td>\n",
       "      <td>...</td>\n",
       "      <td>15.90</td>\n",
       "      <td>15.70</td>\n",
       "      <td>18.80</td>\n",
       "      <td>21.80</td>\n",
       "      <td>24.8</td>\n",
       "      <td>27.9</td>\n",
       "      <td>28.6</td>\n",
       "      <td>29.5</td>\n",
       "      <td>29.5</td>\n",
       "      <td>35.70</td>\n",
       "    </tr>\n",
       "    <tr>\n",
       "      <th>3</th>\n",
       "      <td>Andorra</td>\n",
       "      <td>NaN</td>\n",
       "      <td>NaN</td>\n",
       "      <td>NaN</td>\n",
       "      <td>NaN</td>\n",
       "      <td>NaN</td>\n",
       "      <td>NaN</td>\n",
       "      <td>NaN</td>\n",
       "      <td>NaN</td>\n",
       "      <td>NaN</td>\n",
       "      <td>...</td>\n",
       "      <td>50.00</td>\n",
       "      <td>47.60</td>\n",
       "      <td>44.30</td>\n",
       "      <td>39.30</td>\n",
       "      <td>41.1</td>\n",
       "      <td>42.9</td>\n",
       "      <td>44.6</td>\n",
       "      <td>46.4</td>\n",
       "      <td>46.4</td>\n",
       "      <td>46.40</td>\n",
       "    </tr>\n",
       "    <tr>\n",
       "      <th>4</th>\n",
       "      <td>United Arab Emirates</td>\n",
       "      <td>NaN</td>\n",
       "      <td>NaN</td>\n",
       "      <td>NaN</td>\n",
       "      <td>NaN</td>\n",
       "      <td>NaN</td>\n",
       "      <td>NaN</td>\n",
       "      <td>NaN</td>\n",
       "      <td>NaN</td>\n",
       "      <td>NaN</td>\n",
       "      <td>...</td>\n",
       "      <td>17.50</td>\n",
       "      <td>19.20</td>\n",
       "      <td>20.80</td>\n",
       "      <td>22.50</td>\n",
       "      <td>29.4</td>\n",
       "      <td>36.3</td>\n",
       "      <td>43.1</td>\n",
       "      <td>50.0</td>\n",
       "      <td>50.0</td>\n",
       "      <td>50.00</td>\n",
       "    </tr>\n",
       "    <tr>\n",
       "      <th>...</th>\n",
       "      <td>...</td>\n",
       "      <td>...</td>\n",
       "      <td>...</td>\n",
       "      <td>...</td>\n",
       "      <td>...</td>\n",
       "      <td>...</td>\n",
       "      <td>...</td>\n",
       "      <td>...</td>\n",
       "      <td>...</td>\n",
       "      <td>...</td>\n",
       "      <td>...</td>\n",
       "      <td>...</td>\n",
       "      <td>...</td>\n",
       "      <td>...</td>\n",
       "      <td>...</td>\n",
       "      <td>...</td>\n",
       "      <td>...</td>\n",
       "      <td>...</td>\n",
       "      <td>...</td>\n",
       "      <td>...</td>\n",
       "      <td>...</td>\n",
       "    </tr>\n",
       "    <tr>\n",
       "      <th>179</th>\n",
       "      <td>Uganda</td>\n",
       "      <td>NaN</td>\n",
       "      <td>NaN</td>\n",
       "      <td>NaN</td>\n",
       "      <td>NaN</td>\n",
       "      <td>NaN</td>\n",
       "      <td>NaN</td>\n",
       "      <td>NaN</td>\n",
       "      <td>NaN</td>\n",
       "      <td>NaN</td>\n",
       "      <td>...</td>\n",
       "      <td>15.20</td>\n",
       "      <td>14.30</td>\n",
       "      <td>13.40</td>\n",
       "      <td>12.70</td>\n",
       "      <td>12.1</td>\n",
       "      <td>17.0</td>\n",
       "      <td>24.0</td>\n",
       "      <td>34.9</td>\n",
       "      <td>34.9</td>\n",
       "      <td>33.80</td>\n",
       "    </tr>\n",
       "    <tr>\n",
       "      <th>180</th>\n",
       "      <td>Ukraine</td>\n",
       "      <td>NaN</td>\n",
       "      <td>NaN</td>\n",
       "      <td>NaN</td>\n",
       "      <td>NaN</td>\n",
       "      <td>NaN</td>\n",
       "      <td>NaN</td>\n",
       "      <td>NaN</td>\n",
       "      <td>NaN</td>\n",
       "      <td>NaN</td>\n",
       "      <td>...</td>\n",
       "      <td>9.44</td>\n",
       "      <td>10.50</td>\n",
       "      <td>11.70</td>\n",
       "      <td>13.40</td>\n",
       "      <td>15.2</td>\n",
       "      <td>17.0</td>\n",
       "      <td>18.8</td>\n",
       "      <td>20.5</td>\n",
       "      <td>20.8</td>\n",
       "      <td>20.30</td>\n",
       "    </tr>\n",
       "    <tr>\n",
       "      <th>181</th>\n",
       "      <td>St. Vincent and the Grenadines</td>\n",
       "      <td>NaN</td>\n",
       "      <td>NaN</td>\n",
       "      <td>NaN</td>\n",
       "      <td>NaN</td>\n",
       "      <td>NaN</td>\n",
       "      <td>NaN</td>\n",
       "      <td>NaN</td>\n",
       "      <td>NaN</td>\n",
       "      <td>NaN</td>\n",
       "      <td>...</td>\n",
       "      <td>13.80</td>\n",
       "      <td>13.50</td>\n",
       "      <td>13.30</td>\n",
       "      <td>13.00</td>\n",
       "      <td>13.0</td>\n",
       "      <td>13.0</td>\n",
       "      <td>13.0</td>\n",
       "      <td>13.0</td>\n",
       "      <td>18.2</td>\n",
       "      <td>18.20</td>\n",
       "    </tr>\n",
       "    <tr>\n",
       "      <th>182</th>\n",
       "      <td>Samoa</td>\n",
       "      <td>NaN</td>\n",
       "      <td>NaN</td>\n",
       "      <td>NaN</td>\n",
       "      <td>NaN</td>\n",
       "      <td>NaN</td>\n",
       "      <td>NaN</td>\n",
       "      <td>NaN</td>\n",
       "      <td>NaN</td>\n",
       "      <td>NaN</td>\n",
       "      <td>...</td>\n",
       "      <td>5.28</td>\n",
       "      <td>6.48</td>\n",
       "      <td>7.66</td>\n",
       "      <td>8.84</td>\n",
       "      <td>10.0</td>\n",
       "      <td>10.0</td>\n",
       "      <td>10.0</td>\n",
       "      <td>10.0</td>\n",
       "      <td>10.0</td>\n",
       "      <td>7.84</td>\n",
       "    </tr>\n",
       "    <tr>\n",
       "      <th>183</th>\n",
       "      <td>South Africa</td>\n",
       "      <td>NaN</td>\n",
       "      <td>NaN</td>\n",
       "      <td>NaN</td>\n",
       "      <td>1.31</td>\n",
       "      <td>1.43</td>\n",
       "      <td>1.54</td>\n",
       "      <td>1.66</td>\n",
       "      <td>1.77</td>\n",
       "      <td>1.89</td>\n",
       "      <td>...</td>\n",
       "      <td>41.70</td>\n",
       "      <td>41.20</td>\n",
       "      <td>40.80</td>\n",
       "      <td>41.30</td>\n",
       "      <td>41.9</td>\n",
       "      <td>42.8</td>\n",
       "      <td>43.9</td>\n",
       "      <td>45.3</td>\n",
       "      <td>45.3</td>\n",
       "      <td>45.60</td>\n",
       "    </tr>\n",
       "  </tbody>\n",
       "</table>\n",
       "<p>184 rows × 78 columns</p>\n",
       "</div>"
      ],
      "text/plain": [
       "                            country  1945  1946  1947   1948   1949   1950  \\\n",
       "0                       Afghanistan   NaN   NaN   NaN    NaN    NaN    NaN   \n",
       "1                            Angola   NaN   NaN   NaN    NaN    NaN    NaN   \n",
       "2                           Albania  3.66  6.46  8.81  10.80  12.50  14.10   \n",
       "3                           Andorra   NaN   NaN   NaN    NaN    NaN    NaN   \n",
       "4              United Arab Emirates   NaN   NaN   NaN    NaN    NaN    NaN   \n",
       "..                              ...   ...   ...   ...    ...    ...    ...   \n",
       "179                          Uganda   NaN   NaN   NaN    NaN    NaN    NaN   \n",
       "180                         Ukraine   NaN   NaN   NaN    NaN    NaN    NaN   \n",
       "181  St. Vincent and the Grenadines   NaN   NaN   NaN    NaN    NaN    NaN   \n",
       "182                           Samoa   NaN   NaN   NaN    NaN    NaN    NaN   \n",
       "183                    South Africa   NaN   NaN   NaN   1.31   1.43   1.54   \n",
       "\n",
       "      1951   1952   1953  ...   2012   2013   2014   2015  2016  2017  2018  \\\n",
       "0      NaN    NaN    NaN  ...  27.40  27.40  27.40  27.40  27.7  27.8  27.9   \n",
       "1      NaN    NaN    NaN  ...  34.10  33.50  32.80  32.20  31.6  30.9  30.4   \n",
       "2    13.50  12.90  12.40  ...  15.90  15.70  18.80  21.80  24.8  27.9  28.6   \n",
       "3      NaN    NaN    NaN  ...  50.00  47.60  44.30  39.30  41.1  42.9  44.6   \n",
       "4      NaN    NaN    NaN  ...  17.50  19.20  20.80  22.50  29.4  36.3  43.1   \n",
       "..     ...    ...    ...  ...    ...    ...    ...    ...   ...   ...   ...   \n",
       "179    NaN    NaN    NaN  ...  15.20  14.30  13.40  12.70  12.1  17.0  24.0   \n",
       "180    NaN    NaN    NaN  ...   9.44  10.50  11.70  13.40  15.2  17.0  18.8   \n",
       "181    NaN    NaN    NaN  ...  13.80  13.50  13.30  13.00  13.0  13.0  13.0   \n",
       "182    NaN    NaN    NaN  ...   5.28   6.48   7.66   8.84  10.0  10.0  10.0   \n",
       "183   1.66   1.77   1.89  ...  41.70  41.20  40.80  41.30  41.9  42.8  43.9   \n",
       "\n",
       "     2019  2020   2021  \n",
       "0    27.2  27.2  27.20  \n",
       "1    30.0  29.6  29.60  \n",
       "2    29.5  29.5  35.70  \n",
       "3    46.4  46.4  46.40  \n",
       "4    50.0  50.0  50.00  \n",
       "..    ...   ...    ...  \n",
       "179  34.9  34.9  33.80  \n",
       "180  20.5  20.8  20.30  \n",
       "181  13.0  18.2  18.20  \n",
       "182  10.0  10.0   7.84  \n",
       "183  45.3  45.3  45.60  \n",
       "\n",
       "[184 rows x 78 columns]"
      ]
     },
     "execution_count": 2,
     "metadata": {},
     "output_type": "execute_result"
    }
   ],
   "source": [
    "#Importing a csv\n",
    "pd.read_csv(\"Female_Mps.csv\")"
   ]
  },
  {
   "cell_type": "code",
   "execution_count": 3,
   "metadata": {},
   "outputs": [],
   "source": [
    "#Import the csv dataset as a dataframe \"data\" using pandas\n",
    "data = pd.read_csv(\"Female_Mps.csv\")"
   ]
  },
  {
   "cell_type": "code",
   "execution_count": 3,
   "metadata": {},
   "outputs": [
    {
     "data": {
      "text/html": [
       "<div>\n",
       "<style scoped>\n",
       "    .dataframe tbody tr th:only-of-type {\n",
       "        vertical-align: middle;\n",
       "    }\n",
       "\n",
       "    .dataframe tbody tr th {\n",
       "        vertical-align: top;\n",
       "    }\n",
       "\n",
       "    .dataframe thead th {\n",
       "        text-align: right;\n",
       "    }\n",
       "</style>\n",
       "<table border=\"1\" class=\"dataframe\">\n",
       "  <thead>\n",
       "    <tr style=\"text-align: right;\">\n",
       "      <th></th>\n",
       "      <th>country</th>\n",
       "      <th>1945</th>\n",
       "      <th>1946</th>\n",
       "      <th>1947</th>\n",
       "      <th>1948</th>\n",
       "      <th>1949</th>\n",
       "      <th>1950</th>\n",
       "      <th>1951</th>\n",
       "      <th>1952</th>\n",
       "      <th>1953</th>\n",
       "      <th>...</th>\n",
       "      <th>2012</th>\n",
       "      <th>2013</th>\n",
       "      <th>2014</th>\n",
       "      <th>2015</th>\n",
       "      <th>2016</th>\n",
       "      <th>2017</th>\n",
       "      <th>2018</th>\n",
       "      <th>2019</th>\n",
       "      <th>2020</th>\n",
       "      <th>2021</th>\n",
       "    </tr>\n",
       "  </thead>\n",
       "  <tbody>\n",
       "    <tr>\n",
       "      <th>0</th>\n",
       "      <td>Afghanistan</td>\n",
       "      <td>NaN</td>\n",
       "      <td>NaN</td>\n",
       "      <td>NaN</td>\n",
       "      <td>NaN</td>\n",
       "      <td>NaN</td>\n",
       "      <td>NaN</td>\n",
       "      <td>NaN</td>\n",
       "      <td>NaN</td>\n",
       "      <td>NaN</td>\n",
       "      <td>...</td>\n",
       "      <td>27.4</td>\n",
       "      <td>27.4</td>\n",
       "      <td>27.4</td>\n",
       "      <td>27.4</td>\n",
       "      <td>27.7</td>\n",
       "      <td>27.8</td>\n",
       "      <td>27.9</td>\n",
       "      <td>27.2</td>\n",
       "      <td>27.2</td>\n",
       "      <td>27.2</td>\n",
       "    </tr>\n",
       "    <tr>\n",
       "      <th>1</th>\n",
       "      <td>Angola</td>\n",
       "      <td>NaN</td>\n",
       "      <td>NaN</td>\n",
       "      <td>NaN</td>\n",
       "      <td>NaN</td>\n",
       "      <td>NaN</td>\n",
       "      <td>NaN</td>\n",
       "      <td>NaN</td>\n",
       "      <td>NaN</td>\n",
       "      <td>NaN</td>\n",
       "      <td>...</td>\n",
       "      <td>34.1</td>\n",
       "      <td>33.5</td>\n",
       "      <td>32.8</td>\n",
       "      <td>32.2</td>\n",
       "      <td>31.6</td>\n",
       "      <td>30.9</td>\n",
       "      <td>30.4</td>\n",
       "      <td>30.0</td>\n",
       "      <td>29.6</td>\n",
       "      <td>29.6</td>\n",
       "    </tr>\n",
       "    <tr>\n",
       "      <th>2</th>\n",
       "      <td>Albania</td>\n",
       "      <td>3.66</td>\n",
       "      <td>6.46</td>\n",
       "      <td>8.81</td>\n",
       "      <td>10.8</td>\n",
       "      <td>12.5</td>\n",
       "      <td>14.1</td>\n",
       "      <td>13.5</td>\n",
       "      <td>12.9</td>\n",
       "      <td>12.4</td>\n",
       "      <td>...</td>\n",
       "      <td>15.9</td>\n",
       "      <td>15.7</td>\n",
       "      <td>18.8</td>\n",
       "      <td>21.8</td>\n",
       "      <td>24.8</td>\n",
       "      <td>27.9</td>\n",
       "      <td>28.6</td>\n",
       "      <td>29.5</td>\n",
       "      <td>29.5</td>\n",
       "      <td>35.7</td>\n",
       "    </tr>\n",
       "    <tr>\n",
       "      <th>3</th>\n",
       "      <td>Andorra</td>\n",
       "      <td>NaN</td>\n",
       "      <td>NaN</td>\n",
       "      <td>NaN</td>\n",
       "      <td>NaN</td>\n",
       "      <td>NaN</td>\n",
       "      <td>NaN</td>\n",
       "      <td>NaN</td>\n",
       "      <td>NaN</td>\n",
       "      <td>NaN</td>\n",
       "      <td>...</td>\n",
       "      <td>50.0</td>\n",
       "      <td>47.6</td>\n",
       "      <td>44.3</td>\n",
       "      <td>39.3</td>\n",
       "      <td>41.1</td>\n",
       "      <td>42.9</td>\n",
       "      <td>44.6</td>\n",
       "      <td>46.4</td>\n",
       "      <td>46.4</td>\n",
       "      <td>46.4</td>\n",
       "    </tr>\n",
       "    <tr>\n",
       "      <th>4</th>\n",
       "      <td>United Arab Emirates</td>\n",
       "      <td>NaN</td>\n",
       "      <td>NaN</td>\n",
       "      <td>NaN</td>\n",
       "      <td>NaN</td>\n",
       "      <td>NaN</td>\n",
       "      <td>NaN</td>\n",
       "      <td>NaN</td>\n",
       "      <td>NaN</td>\n",
       "      <td>NaN</td>\n",
       "      <td>...</td>\n",
       "      <td>17.5</td>\n",
       "      <td>19.2</td>\n",
       "      <td>20.8</td>\n",
       "      <td>22.5</td>\n",
       "      <td>29.4</td>\n",
       "      <td>36.3</td>\n",
       "      <td>43.1</td>\n",
       "      <td>50.0</td>\n",
       "      <td>50.0</td>\n",
       "      <td>50.0</td>\n",
       "    </tr>\n",
       "  </tbody>\n",
       "</table>\n",
       "<p>5 rows × 78 columns</p>\n",
       "</div>"
      ],
      "text/plain": [
       "                country  1945  1946  1947  1948  1949  1950  1951  1952  1953  \\\n",
       "0           Afghanistan   NaN   NaN   NaN   NaN   NaN   NaN   NaN   NaN   NaN   \n",
       "1                Angola   NaN   NaN   NaN   NaN   NaN   NaN   NaN   NaN   NaN   \n",
       "2               Albania  3.66  6.46  8.81  10.8  12.5  14.1  13.5  12.9  12.4   \n",
       "3               Andorra   NaN   NaN   NaN   NaN   NaN   NaN   NaN   NaN   NaN   \n",
       "4  United Arab Emirates   NaN   NaN   NaN   NaN   NaN   NaN   NaN   NaN   NaN   \n",
       "\n",
       "   ...  2012  2013  2014  2015  2016  2017  2018  2019  2020  2021  \n",
       "0  ...  27.4  27.4  27.4  27.4  27.7  27.8  27.9  27.2  27.2  27.2  \n",
       "1  ...  34.1  33.5  32.8  32.2  31.6  30.9  30.4  30.0  29.6  29.6  \n",
       "2  ...  15.9  15.7  18.8  21.8  24.8  27.9  28.6  29.5  29.5  35.7  \n",
       "3  ...  50.0  47.6  44.3  39.3  41.1  42.9  44.6  46.4  46.4  46.4  \n",
       "4  ...  17.5  19.2  20.8  22.5  29.4  36.3  43.1  50.0  50.0  50.0  \n",
       "\n",
       "[5 rows x 78 columns]"
      ]
     },
     "execution_count": 3,
     "metadata": {},
     "output_type": "execute_result"
    }
   ],
   "source": [
    "#Check to see if you've properly imported\n",
    "data.head()"
   ]
  },
  {
   "cell_type": "markdown",
   "metadata": {},
   "source": [
    "Dataset imported as pandas dataframe called \"data\"\n",
    "It has 184 observations and 7 variables"
   ]
  },
  {
   "cell_type": "code",
   "execution_count": 4,
   "metadata": {},
   "outputs": [
    {
     "data": {
      "text/html": [
       "<div>\n",
       "<style scoped>\n",
       "    .dataframe tbody tr th:only-of-type {\n",
       "        vertical-align: middle;\n",
       "    }\n",
       "\n",
       "    .dataframe tbody tr th {\n",
       "        vertical-align: top;\n",
       "    }\n",
       "\n",
       "    .dataframe thead th {\n",
       "        text-align: right;\n",
       "    }\n",
       "</style>\n",
       "<table border=\"1\" class=\"dataframe\">\n",
       "  <thead>\n",
       "    <tr style=\"text-align: right;\">\n",
       "      <th></th>\n",
       "      <th>country</th>\n",
       "      <th>1945</th>\n",
       "      <th>1946</th>\n",
       "      <th>1947</th>\n",
       "      <th>1948</th>\n",
       "      <th>1949</th>\n",
       "      <th>1950</th>\n",
       "      <th>1951</th>\n",
       "      <th>1952</th>\n",
       "      <th>1953</th>\n",
       "      <th>...</th>\n",
       "      <th>2012</th>\n",
       "      <th>2013</th>\n",
       "      <th>2014</th>\n",
       "      <th>2015</th>\n",
       "      <th>2016</th>\n",
       "      <th>2017</th>\n",
       "      <th>2018</th>\n",
       "      <th>2019</th>\n",
       "      <th>2020</th>\n",
       "      <th>2021</th>\n",
       "    </tr>\n",
       "  </thead>\n",
       "  <tbody>\n",
       "    <tr>\n",
       "      <th>177</th>\n",
       "      <td>Tuvalu</td>\n",
       "      <td>NaN</td>\n",
       "      <td>NaN</td>\n",
       "      <td>NaN</td>\n",
       "      <td>NaN</td>\n",
       "      <td>NaN</td>\n",
       "      <td>NaN</td>\n",
       "      <td>NaN</td>\n",
       "      <td>NaN</td>\n",
       "      <td>NaN</td>\n",
       "      <td>...</td>\n",
       "      <td>2.67</td>\n",
       "      <td>4.00</td>\n",
       "      <td>5.33</td>\n",
       "      <td>6.67</td>\n",
       "      <td>6.56</td>\n",
       "      <td>6.45</td>\n",
       "      <td>6.35</td>\n",
       "      <td>6.25</td>\n",
       "      <td>6.25</td>\n",
       "      <td>6.25</td>\n",
       "    </tr>\n",
       "    <tr>\n",
       "      <th>178</th>\n",
       "      <td>Tanzania</td>\n",
       "      <td>NaN</td>\n",
       "      <td>NaN</td>\n",
       "      <td>NaN</td>\n",
       "      <td>NaN</td>\n",
       "      <td>NaN</td>\n",
       "      <td>NaN</td>\n",
       "      <td>NaN</td>\n",
       "      <td>NaN</td>\n",
       "      <td>NaN</td>\n",
       "      <td>...</td>\n",
       "      <td>36.20</td>\n",
       "      <td>36.30</td>\n",
       "      <td>36.50</td>\n",
       "      <td>36.60</td>\n",
       "      <td>36.60</td>\n",
       "      <td>36.70</td>\n",
       "      <td>36.80</td>\n",
       "      <td>36.90</td>\n",
       "      <td>36.70</td>\n",
       "      <td>36.90</td>\n",
       "    </tr>\n",
       "    <tr>\n",
       "      <th>179</th>\n",
       "      <td>Uganda</td>\n",
       "      <td>NaN</td>\n",
       "      <td>NaN</td>\n",
       "      <td>NaN</td>\n",
       "      <td>NaN</td>\n",
       "      <td>NaN</td>\n",
       "      <td>NaN</td>\n",
       "      <td>NaN</td>\n",
       "      <td>NaN</td>\n",
       "      <td>NaN</td>\n",
       "      <td>...</td>\n",
       "      <td>15.20</td>\n",
       "      <td>14.30</td>\n",
       "      <td>13.40</td>\n",
       "      <td>12.70</td>\n",
       "      <td>12.10</td>\n",
       "      <td>17.00</td>\n",
       "      <td>24.00</td>\n",
       "      <td>34.90</td>\n",
       "      <td>34.90</td>\n",
       "      <td>33.80</td>\n",
       "    </tr>\n",
       "    <tr>\n",
       "      <th>180</th>\n",
       "      <td>Ukraine</td>\n",
       "      <td>NaN</td>\n",
       "      <td>NaN</td>\n",
       "      <td>NaN</td>\n",
       "      <td>NaN</td>\n",
       "      <td>NaN</td>\n",
       "      <td>NaN</td>\n",
       "      <td>NaN</td>\n",
       "      <td>NaN</td>\n",
       "      <td>NaN</td>\n",
       "      <td>...</td>\n",
       "      <td>9.44</td>\n",
       "      <td>10.50</td>\n",
       "      <td>11.70</td>\n",
       "      <td>13.40</td>\n",
       "      <td>15.20</td>\n",
       "      <td>17.00</td>\n",
       "      <td>18.80</td>\n",
       "      <td>20.50</td>\n",
       "      <td>20.80</td>\n",
       "      <td>20.30</td>\n",
       "    </tr>\n",
       "    <tr>\n",
       "      <th>181</th>\n",
       "      <td>St. Vincent and the Grenadines</td>\n",
       "      <td>NaN</td>\n",
       "      <td>NaN</td>\n",
       "      <td>NaN</td>\n",
       "      <td>NaN</td>\n",
       "      <td>NaN</td>\n",
       "      <td>NaN</td>\n",
       "      <td>NaN</td>\n",
       "      <td>NaN</td>\n",
       "      <td>NaN</td>\n",
       "      <td>...</td>\n",
       "      <td>13.80</td>\n",
       "      <td>13.50</td>\n",
       "      <td>13.30</td>\n",
       "      <td>13.00</td>\n",
       "      <td>13.00</td>\n",
       "      <td>13.00</td>\n",
       "      <td>13.00</td>\n",
       "      <td>13.00</td>\n",
       "      <td>18.20</td>\n",
       "      <td>18.20</td>\n",
       "    </tr>\n",
       "    <tr>\n",
       "      <th>182</th>\n",
       "      <td>Samoa</td>\n",
       "      <td>NaN</td>\n",
       "      <td>NaN</td>\n",
       "      <td>NaN</td>\n",
       "      <td>NaN</td>\n",
       "      <td>NaN</td>\n",
       "      <td>NaN</td>\n",
       "      <td>NaN</td>\n",
       "      <td>NaN</td>\n",
       "      <td>NaN</td>\n",
       "      <td>...</td>\n",
       "      <td>5.28</td>\n",
       "      <td>6.48</td>\n",
       "      <td>7.66</td>\n",
       "      <td>8.84</td>\n",
       "      <td>10.00</td>\n",
       "      <td>10.00</td>\n",
       "      <td>10.00</td>\n",
       "      <td>10.00</td>\n",
       "      <td>10.00</td>\n",
       "      <td>7.84</td>\n",
       "    </tr>\n",
       "    <tr>\n",
       "      <th>183</th>\n",
       "      <td>South Africa</td>\n",
       "      <td>NaN</td>\n",
       "      <td>NaN</td>\n",
       "      <td>NaN</td>\n",
       "      <td>1.31</td>\n",
       "      <td>1.43</td>\n",
       "      <td>1.54</td>\n",
       "      <td>1.66</td>\n",
       "      <td>1.77</td>\n",
       "      <td>1.89</td>\n",
       "      <td>...</td>\n",
       "      <td>41.70</td>\n",
       "      <td>41.20</td>\n",
       "      <td>40.80</td>\n",
       "      <td>41.30</td>\n",
       "      <td>41.90</td>\n",
       "      <td>42.80</td>\n",
       "      <td>43.90</td>\n",
       "      <td>45.30</td>\n",
       "      <td>45.30</td>\n",
       "      <td>45.60</td>\n",
       "    </tr>\n",
       "  </tbody>\n",
       "</table>\n",
       "<p>7 rows × 78 columns</p>\n",
       "</div>"
      ],
      "text/plain": [
       "                            country  1945  1946  1947  1948  1949  1950  1951  \\\n",
       "177                          Tuvalu   NaN   NaN   NaN   NaN   NaN   NaN   NaN   \n",
       "178                        Tanzania   NaN   NaN   NaN   NaN   NaN   NaN   NaN   \n",
       "179                          Uganda   NaN   NaN   NaN   NaN   NaN   NaN   NaN   \n",
       "180                         Ukraine   NaN   NaN   NaN   NaN   NaN   NaN   NaN   \n",
       "181  St. Vincent and the Grenadines   NaN   NaN   NaN   NaN   NaN   NaN   NaN   \n",
       "182                           Samoa   NaN   NaN   NaN   NaN   NaN   NaN   NaN   \n",
       "183                    South Africa   NaN   NaN   NaN  1.31  1.43  1.54  1.66   \n",
       "\n",
       "     1952  1953  ...   2012   2013   2014   2015   2016   2017   2018   2019  \\\n",
       "177   NaN   NaN  ...   2.67   4.00   5.33   6.67   6.56   6.45   6.35   6.25   \n",
       "178   NaN   NaN  ...  36.20  36.30  36.50  36.60  36.60  36.70  36.80  36.90   \n",
       "179   NaN   NaN  ...  15.20  14.30  13.40  12.70  12.10  17.00  24.00  34.90   \n",
       "180   NaN   NaN  ...   9.44  10.50  11.70  13.40  15.20  17.00  18.80  20.50   \n",
       "181   NaN   NaN  ...  13.80  13.50  13.30  13.00  13.00  13.00  13.00  13.00   \n",
       "182   NaN   NaN  ...   5.28   6.48   7.66   8.84  10.00  10.00  10.00  10.00   \n",
       "183  1.77  1.89  ...  41.70  41.20  40.80  41.30  41.90  42.80  43.90  45.30   \n",
       "\n",
       "      2020   2021  \n",
       "177   6.25   6.25  \n",
       "178  36.70  36.90  \n",
       "179  34.90  33.80  \n",
       "180  20.80  20.30  \n",
       "181  18.20  18.20  \n",
       "182  10.00   7.84  \n",
       "183  45.30  45.60  \n",
       "\n",
       "[7 rows x 78 columns]"
      ]
     },
     "execution_count": 4,
     "metadata": {},
     "output_type": "execute_result"
    }
   ],
   "source": [
    "data.tail(7)"
   ]
  },
  {
   "cell_type": "code",
   "execution_count": 4,
   "metadata": {},
   "outputs": [],
   "source": [
    "#Import an excel workbook\n",
    "data2 = pd.read_excel(\"DiamondPricesData.xlsx\")"
   ]
  },
  {
   "cell_type": "code",
   "execution_count": 5,
   "metadata": {},
   "outputs": [
    {
     "data": {
      "text/html": [
       "<div>\n",
       "<style scoped>\n",
       "    .dataframe tbody tr th:only-of-type {\n",
       "        vertical-align: middle;\n",
       "    }\n",
       "\n",
       "    .dataframe tbody tr th {\n",
       "        vertical-align: top;\n",
       "    }\n",
       "\n",
       "    .dataframe thead th {\n",
       "        text-align: right;\n",
       "    }\n",
       "</style>\n",
       "<table border=\"1\" class=\"dataframe\">\n",
       "  <thead>\n",
       "    <tr style=\"text-align: right;\">\n",
       "      <th></th>\n",
       "      <th>price</th>\n",
       "      <th>carat</th>\n",
       "      <th>cut</th>\n",
       "      <th>color</th>\n",
       "      <th>clarity</th>\n",
       "      <th>depth</th>\n",
       "      <th>table</th>\n",
       "      <th>x</th>\n",
       "      <th>y</th>\n",
       "      <th>z</th>\n",
       "    </tr>\n",
       "  </thead>\n",
       "  <tbody>\n",
       "    <tr>\n",
       "      <th>0</th>\n",
       "      <td>326</td>\n",
       "      <td>0.23</td>\n",
       "      <td>Ideal</td>\n",
       "      <td>E</td>\n",
       "      <td>SI2</td>\n",
       "      <td>61.5</td>\n",
       "      <td>55.0</td>\n",
       "      <td>3.95</td>\n",
       "      <td>3.98</td>\n",
       "      <td>2.43</td>\n",
       "    </tr>\n",
       "    <tr>\n",
       "      <th>1</th>\n",
       "      <td>326</td>\n",
       "      <td>0.21</td>\n",
       "      <td>Premium</td>\n",
       "      <td>E</td>\n",
       "      <td>SI1</td>\n",
       "      <td>59.8</td>\n",
       "      <td>61.0</td>\n",
       "      <td>3.89</td>\n",
       "      <td>3.84</td>\n",
       "      <td>2.31</td>\n",
       "    </tr>\n",
       "    <tr>\n",
       "      <th>2</th>\n",
       "      <td>327</td>\n",
       "      <td>0.23</td>\n",
       "      <td>Good</td>\n",
       "      <td>E</td>\n",
       "      <td>VS1</td>\n",
       "      <td>56.9</td>\n",
       "      <td>65.0</td>\n",
       "      <td>4.05</td>\n",
       "      <td>4.07</td>\n",
       "      <td>2.31</td>\n",
       "    </tr>\n",
       "    <tr>\n",
       "      <th>3</th>\n",
       "      <td>334</td>\n",
       "      <td>0.29</td>\n",
       "      <td>Premium</td>\n",
       "      <td>I</td>\n",
       "      <td>VS2</td>\n",
       "      <td>62.4</td>\n",
       "      <td>58.0</td>\n",
       "      <td>4.20</td>\n",
       "      <td>4.23</td>\n",
       "      <td>2.63</td>\n",
       "    </tr>\n",
       "    <tr>\n",
       "      <th>4</th>\n",
       "      <td>335</td>\n",
       "      <td>0.31</td>\n",
       "      <td>Good</td>\n",
       "      <td>J</td>\n",
       "      <td>SI2</td>\n",
       "      <td>63.3</td>\n",
       "      <td>58.0</td>\n",
       "      <td>4.34</td>\n",
       "      <td>4.35</td>\n",
       "      <td>2.75</td>\n",
       "    </tr>\n",
       "  </tbody>\n",
       "</table>\n",
       "</div>"
      ],
      "text/plain": [
       "   price  carat      cut color clarity  depth  table     x     y     z\n",
       "0    326   0.23    Ideal     E     SI2   61.5   55.0  3.95  3.98  2.43\n",
       "1    326   0.21  Premium     E     SI1   59.8   61.0  3.89  3.84  2.31\n",
       "2    327   0.23     Good     E     VS1   56.9   65.0  4.05  4.07  2.31\n",
       "3    334   0.29  Premium     I     VS2   62.4   58.0  4.20  4.23  2.63\n",
       "4    335   0.31     Good     J     SI2   63.3   58.0  4.34  4.35  2.75"
      ]
     },
     "execution_count": 5,
     "metadata": {},
     "output_type": "execute_result"
    }
   ],
   "source": [
    "#Check the imported excel\n",
    "data2.head()"
   ]
  },
  {
   "cell_type": "code",
   "execution_count": 1,
   "metadata": {},
   "outputs": [
    {
     "ename": "NameError",
     "evalue": "name 'pd' is not defined",
     "output_type": "error",
     "traceback": [
      "\u001b[1;31m---------------------------------------------------------------------------\u001b[0m",
      "\u001b[1;31mNameError\u001b[0m                                 Traceback (most recent call last)",
      "Cell \u001b[1;32mIn[1], line 2\u001b[0m\n\u001b[0;32m      1\u001b[0m \u001b[38;5;66;03m#Import spss dataset\u001b[39;00m\n\u001b[1;32m----> 2\u001b[0m data3 \u001b[38;5;241m=\u001b[39m \u001b[43mpd\u001b[49m\u001b[38;5;241m.\u001b[39mread_spss(\u001b[38;5;124m\"\u001b[39m\u001b[38;5;124mDec11.sav\u001b[39m\u001b[38;5;124m\"\u001b[39m)\n",
      "\u001b[1;31mNameError\u001b[0m: name 'pd' is not defined"
     ]
    }
   ],
   "source": [
    "#Import spss dataset\n",
    "data3 = pd.read_spss(\"Dec11.sav\")"
   ]
  },
  {
   "attachments": {},
   "cell_type": "markdown",
   "metadata": {},
   "source": [
    "(If) Using just pandas doesn't work.\n",
    "\n",
    "So we need the pyreadstat library"
   ]
  },
  {
   "cell_type": "code",
   "execution_count": 6,
   "metadata": {},
   "outputs": [
    {
     "name": "stdout",
     "output_type": "stream",
     "text": [
      "Requirement already satisfied: pyreadstat in c:\\users\\user\\appdata\\local\\programs\\python\\python311\\lib\\site-packages (1.2.1)\n",
      "Requirement already satisfied: pandas>=1.2.0 in c:\\users\\user\\appdata\\local\\programs\\python\\python311\\lib\\site-packages (from pyreadstat) (1.5.3)\n",
      "Requirement already satisfied: python-dateutil>=2.8.1 in c:\\users\\user\\appdata\\local\\programs\\python\\python311\\lib\\site-packages (from pandas>=1.2.0->pyreadstat) (2.8.2)\n",
      "Requirement already satisfied: pytz>=2020.1 in c:\\users\\user\\appdata\\local\\programs\\python\\python311\\lib\\site-packages (from pandas>=1.2.0->pyreadstat) (2022.7.1)\n",
      "Requirement already satisfied: numpy>=1.21.0 in c:\\users\\user\\appdata\\local\\programs\\python\\python311\\lib\\site-packages (from pandas>=1.2.0->pyreadstat) (1.23.5)\n",
      "Requirement already satisfied: six>=1.5 in c:\\users\\user\\appdata\\local\\programs\\python\\python311\\lib\\site-packages (from python-dateutil>=2.8.1->pandas>=1.2.0->pyreadstat) (1.16.0)\n"
     ]
    },
    {
     "name": "stderr",
     "output_type": "stream",
     "text": [
      "\n",
      "[notice] A new release of pip available: 22.3.1 -> 23.0.1\n",
      "[notice] To update, run: python.exe -m pip install --upgrade pip\n"
     ]
    }
   ],
   "source": [
    "!pip install pyreadstat"
   ]
  },
  {
   "cell_type": "code",
   "execution_count": 7,
   "metadata": {},
   "outputs": [
    {
     "data": {
      "text/html": [
       "<div>\n",
       "<style scoped>\n",
       "    .dataframe tbody tr th:only-of-type {\n",
       "        vertical-align: middle;\n",
       "    }\n",
       "\n",
       "    .dataframe tbody tr th {\n",
       "        vertical-align: top;\n",
       "    }\n",
       "\n",
       "    .dataframe thead th {\n",
       "        text-align: right;\n",
       "    }\n",
       "</style>\n",
       "<table border=\"1\" class=\"dataframe\">\n",
       "  <thead>\n",
       "    <tr style=\"text-align: right;\">\n",
       "      <th></th>\n",
       "      <th>psraid</th>\n",
       "      <th>int_date</th>\n",
       "      <th>lang</th>\n",
       "      <th>sample</th>\n",
       "      <th>segment</th>\n",
       "      <th>strata</th>\n",
       "      <th>version</th>\n",
       "      <th>state</th>\n",
       "      <th>cregion</th>\n",
       "      <th>density</th>\n",
       "      <th>...</th>\n",
       "      <th>ideo3x</th>\n",
       "      <th>iphoneuse</th>\n",
       "      <th>hphoneuse</th>\n",
       "      <th>adults</th>\n",
       "      <th>recadults</th>\n",
       "      <th>age1834</th>\n",
       "      <th>wt1</th>\n",
       "      <th>pupsa</th>\n",
       "      <th>wt2</th>\n",
       "      <th>weight</th>\n",
       "    </tr>\n",
       "  </thead>\n",
       "  <tbody>\n",
       "    <tr>\n",
       "      <th>0</th>\n",
       "      <td>100017.0</td>\n",
       "      <td>120611.0</td>\n",
       "      <td>1.0</td>\n",
       "      <td>1.0</td>\n",
       "      <td>1.0</td>\n",
       "      <td>8.0</td>\n",
       "      <td>1.0</td>\n",
       "      <td>48.0</td>\n",
       "      <td>3.0</td>\n",
       "      <td>4.0</td>\n",
       "      <td>...</td>\n",
       "      <td>1.0</td>\n",
       "      <td>2.0</td>\n",
       "      <td>2.0</td>\n",
       "      <td>2.0</td>\n",
       "      <td>2.0</td>\n",
       "      <td>2.0</td>\n",
       "      <td>0.575831</td>\n",
       "      <td>0.774818</td>\n",
       "      <td>0.446164</td>\n",
       "      <td>2.65</td>\n",
       "    </tr>\n",
       "    <tr>\n",
       "      <th>1</th>\n",
       "      <td>100023.0</td>\n",
       "      <td>120611.0</td>\n",
       "      <td>1.0</td>\n",
       "      <td>1.0</td>\n",
       "      <td>1.0</td>\n",
       "      <td>3.0</td>\n",
       "      <td>1.0</td>\n",
       "      <td>36.0</td>\n",
       "      <td>1.0</td>\n",
       "      <td>1.0</td>\n",
       "      <td>...</td>\n",
       "      <td>3.0</td>\n",
       "      <td>1.0</td>\n",
       "      <td>2.0</td>\n",
       "      <td>3.0</td>\n",
       "      <td>2.0</td>\n",
       "      <td>2.0</td>\n",
       "      <td>3.431952</td>\n",
       "      <td>3.326398</td>\n",
       "      <td>11.416039</td>\n",
       "      <td>15.85</td>\n",
       "    </tr>\n",
       "    <tr>\n",
       "      <th>2</th>\n",
       "      <td>100026.0</td>\n",
       "      <td>120711.0</td>\n",
       "      <td>1.0</td>\n",
       "      <td>1.0</td>\n",
       "      <td>1.0</td>\n",
       "      <td>6.0</td>\n",
       "      <td>1.0</td>\n",
       "      <td>1.0</td>\n",
       "      <td>3.0</td>\n",
       "      <td>3.0</td>\n",
       "      <td>...</td>\n",
       "      <td>1.0</td>\n",
       "      <td>2.0</td>\n",
       "      <td>2.0</td>\n",
       "      <td>2.0</td>\n",
       "      <td>2.0</td>\n",
       "      <td>2.0</td>\n",
       "      <td>0.863746</td>\n",
       "      <td>0.774818</td>\n",
       "      <td>0.669246</td>\n",
       "      <td>2.15</td>\n",
       "    </tr>\n",
       "    <tr>\n",
       "      <th>3</th>\n",
       "      <td>100027.0</td>\n",
       "      <td>120611.0</td>\n",
       "      <td>1.0</td>\n",
       "      <td>1.0</td>\n",
       "      <td>1.0</td>\n",
       "      <td>7.0</td>\n",
       "      <td>1.0</td>\n",
       "      <td>17.0</td>\n",
       "      <td>2.0</td>\n",
       "      <td>3.0</td>\n",
       "      <td>...</td>\n",
       "      <td>2.0</td>\n",
       "      <td>2.0</td>\n",
       "      <td>2.0</td>\n",
       "      <td>2.0</td>\n",
       "      <td>2.0</td>\n",
       "      <td>2.0</td>\n",
       "      <td>0.863746</td>\n",
       "      <td>0.774818</td>\n",
       "      <td>0.669246</td>\n",
       "      <td>4.20</td>\n",
       "    </tr>\n",
       "    <tr>\n",
       "      <th>4</th>\n",
       "      <td>100031.0</td>\n",
       "      <td>121011.0</td>\n",
       "      <td>1.0</td>\n",
       "      <td>1.0</td>\n",
       "      <td>1.0</td>\n",
       "      <td>10.0</td>\n",
       "      <td>1.0</td>\n",
       "      <td>45.0</td>\n",
       "      <td>3.0</td>\n",
       "      <td>1.0</td>\n",
       "      <td>...</td>\n",
       "      <td>2.0</td>\n",
       "      <td>1.0</td>\n",
       "      <td>1.0</td>\n",
       "      <td>1.0</td>\n",
       "      <td>1.0</td>\n",
       "      <td>2.0</td>\n",
       "      <td>0.575831</td>\n",
       "      <td>1.663199</td>\n",
       "      <td>0.957721</td>\n",
       "      <td>1.70</td>\n",
       "    </tr>\n",
       "  </tbody>\n",
       "</table>\n",
       "<p>5 rows × 139 columns</p>\n",
       "</div>"
      ],
      "text/plain": [
       "     psraid  int_date  lang  sample  segment  strata  version  state  cregion  \\\n",
       "0  100017.0  120611.0   1.0     1.0      1.0     8.0      1.0   48.0      3.0   \n",
       "1  100023.0  120611.0   1.0     1.0      1.0     3.0      1.0   36.0      1.0   \n",
       "2  100026.0  120711.0   1.0     1.0      1.0     6.0      1.0    1.0      3.0   \n",
       "3  100027.0  120611.0   1.0     1.0      1.0     7.0      1.0   17.0      2.0   \n",
       "4  100031.0  121011.0   1.0     1.0      1.0    10.0      1.0   45.0      3.0   \n",
       "\n",
       "   density  ... ideo3x iphoneuse  hphoneuse  adults  recadults age1834  \\\n",
       "0      4.0  ...    1.0       2.0        2.0     2.0        2.0     2.0   \n",
       "1      1.0  ...    3.0       1.0        2.0     3.0        2.0     2.0   \n",
       "2      3.0  ...    1.0       2.0        2.0     2.0        2.0     2.0   \n",
       "3      3.0  ...    2.0       2.0        2.0     2.0        2.0     2.0   \n",
       "4      1.0  ...    2.0       1.0        1.0     1.0        1.0     2.0   \n",
       "\n",
       "        wt1     pupsa        wt2  weight  \n",
       "0  0.575831  0.774818   0.446164    2.65  \n",
       "1  3.431952  3.326398  11.416039   15.85  \n",
       "2  0.863746  0.774818   0.669246    2.15  \n",
       "3  0.863746  0.774818   0.669246    4.20  \n",
       "4  0.575831  1.663199   0.957721    1.70  \n",
       "\n",
       "[5 rows x 139 columns]"
      ]
     },
     "execution_count": 7,
     "metadata": {},
     "output_type": "execute_result"
    }
   ],
   "source": [
    "#Then use the pyreadstat library to import the spss\n",
    "import pyreadstat\n",
    "data3, meta = pyreadstat.read_sav(\"Dec11.sav\")\n",
    "data3.head()"
   ]
  },
  {
   "attachments": {},
   "cell_type": "markdown",
   "metadata": {},
   "source": [
    "data3 is your spss file being turned in to a pandas dataframe \n",
    "\n",
    "Meta contains metadata such as variable labels or value labels\n",
    "\n",
    "read_sav reads both sav and zsav (compressed) files. "
   ]
  },
  {
   "attachments": {},
   "cell_type": "markdown",
   "metadata": {},
   "source": [
    "## 2. How does the dataset look? ##"
   ]
  },
  {
   "cell_type": "code",
   "execution_count": 8,
   "metadata": {},
   "outputs": [
    {
     "name": "stdout",
     "output_type": "stream",
     "text": [
      "<class 'pandas.core.frame.DataFrame'>\n",
      "RangeIndex: 184 entries, 0 to 183\n",
      "Data columns (total 78 columns):\n",
      " #   Column   Non-Null Count  Dtype  \n",
      "---  ------   --------------  -----  \n",
      " 0   country  184 non-null    object \n",
      " 1   1945     17 non-null     float64\n",
      " 2   1946     34 non-null     float64\n",
      " 3   1947     40 non-null     float64\n",
      " 4   1948     48 non-null     float64\n",
      " 5   1949     51 non-null     float64\n",
      " 6   1950     53 non-null     float64\n",
      " 7   1951     56 non-null     float64\n",
      " 8   1952     59 non-null     float64\n",
      " 9   1953     60 non-null     float64\n",
      " 10  1954     62 non-null     float64\n",
      " 11  1955     64 non-null     float64\n",
      " 12  1956     64 non-null     float64\n",
      " 13  1957     66 non-null     float64\n",
      " 14  1958     67 non-null     float64\n",
      " 15  1959     70 non-null     float64\n",
      " 16  1960     78 non-null     float64\n",
      " 17  1961     82 non-null     float64\n",
      " 18  1962     85 non-null     float64\n",
      " 19  1963     90 non-null     float64\n",
      " 20  1964     94 non-null     float64\n",
      " 21  1965     99 non-null     float64\n",
      " 22  1966     101 non-null    float64\n",
      " 23  1967     103 non-null    float64\n",
      " 24  1968     105 non-null    float64\n",
      " 25  1969     105 non-null    float64\n",
      " 26  1970     108 non-null    float64\n",
      " 27  1971     111 non-null    float64\n",
      " 28  1972     114 non-null    float64\n",
      " 29  1973     116 non-null    float64\n",
      " 30  1974     117 non-null    float64\n",
      " 31  1975     120 non-null    float64\n",
      " 32  1976     120 non-null    float64\n",
      " 33  1977     125 non-null    float64\n",
      " 34  1978     127 non-null    float64\n",
      " 35  1979     131 non-null    float64\n",
      " 36  1980     135 non-null    float64\n",
      " 37  1981     135 non-null    float64\n",
      " 38  1982     135 non-null    float64\n",
      " 39  1983     135 non-null    float64\n",
      " 40  1984     138 non-null    float64\n",
      " 41  1985     138 non-null    float64\n",
      " 42  1986     139 non-null    float64\n",
      " 43  1987     139 non-null    float64\n",
      " 44  1988     139 non-null    float64\n",
      " 45  1989     140 non-null    float64\n",
      " 46  1990     156 non-null    float64\n",
      " 47  1991     157 non-null    float64\n",
      " 48  1992     163 non-null    float64\n",
      " 49  1993     165 non-null    float64\n",
      " 50  1994     167 non-null    float64\n",
      " 51  1995     167 non-null    float64\n",
      " 52  1996     167 non-null    float64\n",
      " 53  1997     167 non-null    float64\n",
      " 54  1998     167 non-null    float64\n",
      " 55  1999     167 non-null    float64\n",
      " 56  2000     167 non-null    float64\n",
      " 57  2001     168 non-null    float64\n",
      " 58  2002     168 non-null    float64\n",
      " 59  2003     169 non-null    float64\n",
      " 60  2004     169 non-null    float64\n",
      " 61  2005     171 non-null    float64\n",
      " 62  2006     172 non-null    float64\n",
      " 63  2007     173 non-null    float64\n",
      " 64  2008     173 non-null    float64\n",
      " 65  2009     173 non-null    float64\n",
      " 66  2010     173 non-null    float64\n",
      " 67  2011     174 non-null    float64\n",
      " 68  2012     174 non-null    float64\n",
      " 69  2013     175 non-null    float64\n",
      " 70  2014     175 non-null    float64\n",
      " 71  2015     175 non-null    float64\n",
      " 72  2016     175 non-null    float64\n",
      " 73  2017     175 non-null    float64\n",
      " 74  2018     175 non-null    float64\n",
      " 75  2019     183 non-null    float64\n",
      " 76  2020     182 non-null    float64\n",
      " 77  2021     182 non-null    float64\n",
      "dtypes: float64(77), object(1)\n",
      "memory usage: 112.2+ KB\n"
     ]
    }
   ],
   "source": [
    "#Main information of the dataset\n",
    "data.info()"
   ]
  },
  {
   "cell_type": "code",
   "execution_count": 9,
   "metadata": {},
   "outputs": [
    {
     "name": "stdout",
     "output_type": "stream",
     "text": [
      "<class 'pandas.core.frame.DataFrame'>\n",
      "RangeIndex: 53940 entries, 0 to 53939\n",
      "Data columns (total 10 columns):\n",
      " #   Column   Non-Null Count  Dtype  \n",
      "---  ------   --------------  -----  \n",
      " 0   price    53940 non-null  int64  \n",
      " 1   carat    53940 non-null  float64\n",
      " 2   cut      53940 non-null  object \n",
      " 3   color    53934 non-null  object \n",
      " 4   clarity  53940 non-null  object \n",
      " 5   depth    53926 non-null  float64\n",
      " 6   table    53940 non-null  float64\n",
      " 7   x        53940 non-null  float64\n",
      " 8   y        53940 non-null  float64\n",
      " 9   z        53940 non-null  float64\n",
      "dtypes: float64(6), int64(1), object(3)\n",
      "memory usage: 4.1+ MB\n"
     ]
    }
   ],
   "source": [
    "data2.info()"
   ]
  },
  {
   "cell_type": "code",
   "execution_count": 10,
   "metadata": {},
   "outputs": [
    {
     "name": "stdout",
     "output_type": "stream",
     "text": [
      "<class 'pandas.core.frame.DataFrame'>\n",
      "RangeIndex: 2048 entries, 0 to 2047\n",
      "Columns: 139 entries, psraid to weight\n",
      "dtypes: float64(134), object(5)\n",
      "memory usage: 2.2+ MB\n"
     ]
    }
   ],
   "source": [
    "data3.info()"
   ]
  },
  {
   "cell_type": "code",
   "execution_count": 11,
   "metadata": {},
   "outputs": [
    {
     "data": {
      "text/html": [
       "<div>\n",
       "<style scoped>\n",
       "    .dataframe tbody tr th:only-of-type {\n",
       "        vertical-align: middle;\n",
       "    }\n",
       "\n",
       "    .dataframe tbody tr th {\n",
       "        vertical-align: top;\n",
       "    }\n",
       "\n",
       "    .dataframe thead th {\n",
       "        text-align: right;\n",
       "    }\n",
       "</style>\n",
       "<table border=\"1\" class=\"dataframe\">\n",
       "  <thead>\n",
       "    <tr style=\"text-align: right;\">\n",
       "      <th></th>\n",
       "      <th>1945</th>\n",
       "      <th>1946</th>\n",
       "      <th>1947</th>\n",
       "      <th>1948</th>\n",
       "      <th>1949</th>\n",
       "      <th>1950</th>\n",
       "      <th>1951</th>\n",
       "      <th>1952</th>\n",
       "      <th>1953</th>\n",
       "      <th>1954</th>\n",
       "      <th>...</th>\n",
       "      <th>2012</th>\n",
       "      <th>2013</th>\n",
       "      <th>2014</th>\n",
       "      <th>2015</th>\n",
       "      <th>2016</th>\n",
       "      <th>2017</th>\n",
       "      <th>2018</th>\n",
       "      <th>2019</th>\n",
       "      <th>2020</th>\n",
       "      <th>2021</th>\n",
       "    </tr>\n",
       "  </thead>\n",
       "  <tbody>\n",
       "    <tr>\n",
       "      <th>count</th>\n",
       "      <td>17.000000</td>\n",
       "      <td>34.000000</td>\n",
       "      <td>40.000000</td>\n",
       "      <td>48.000000</td>\n",
       "      <td>51.000000</td>\n",
       "      <td>53.000000</td>\n",
       "      <td>56.000000</td>\n",
       "      <td>59.000000</td>\n",
       "      <td>60.000000</td>\n",
       "      <td>62.000000</td>\n",
       "      <td>...</td>\n",
       "      <td>174.000000</td>\n",
       "      <td>175.000000</td>\n",
       "      <td>175.000000</td>\n",
       "      <td>175.000000</td>\n",
       "      <td>175.000000</td>\n",
       "      <td>175.000000</td>\n",
       "      <td>175.000000</td>\n",
       "      <td>183.000000</td>\n",
       "      <td>182.000000</td>\n",
       "      <td>182.000000</td>\n",
       "    </tr>\n",
       "    <tr>\n",
       "      <th>mean</th>\n",
       "      <td>2.874118</td>\n",
       "      <td>2.946471</td>\n",
       "      <td>3.166000</td>\n",
       "      <td>2.847500</td>\n",
       "      <td>3.242745</td>\n",
       "      <td>3.573585</td>\n",
       "      <td>4.096786</td>\n",
       "      <td>4.384915</td>\n",
       "      <td>4.381833</td>\n",
       "      <td>4.379839</td>\n",
       "      <td>...</td>\n",
       "      <td>20.136609</td>\n",
       "      <td>21.113943</td>\n",
       "      <td>20.990629</td>\n",
       "      <td>21.178800</td>\n",
       "      <td>21.730114</td>\n",
       "      <td>22.212057</td>\n",
       "      <td>22.821600</td>\n",
       "      <td>23.192896</td>\n",
       "      <td>24.207473</td>\n",
       "      <td>24.837857</td>\n",
       "    </tr>\n",
       "    <tr>\n",
       "      <th>std</th>\n",
       "      <td>2.684006</td>\n",
       "      <td>2.942937</td>\n",
       "      <td>3.444616</td>\n",
       "      <td>3.483672</td>\n",
       "      <td>4.209952</td>\n",
       "      <td>4.567136</td>\n",
       "      <td>5.485465</td>\n",
       "      <td>5.571737</td>\n",
       "      <td>5.467268</td>\n",
       "      <td>5.576838</td>\n",
       "      <td>...</td>\n",
       "      <td>11.656767</td>\n",
       "      <td>12.375400</td>\n",
       "      <td>11.763950</td>\n",
       "      <td>11.566838</td>\n",
       "      <td>11.763865</td>\n",
       "      <td>11.892547</td>\n",
       "      <td>12.028124</td>\n",
       "      <td>11.863817</td>\n",
       "      <td>12.014269</td>\n",
       "      <td>12.500063</td>\n",
       "    </tr>\n",
       "    <tr>\n",
       "      <th>min</th>\n",
       "      <td>0.000000</td>\n",
       "      <td>0.000000</td>\n",
       "      <td>0.000000</td>\n",
       "      <td>0.000000</td>\n",
       "      <td>0.000000</td>\n",
       "      <td>0.000000</td>\n",
       "      <td>0.000000</td>\n",
       "      <td>0.000000</td>\n",
       "      <td>0.000000</td>\n",
       "      <td>0.000000</td>\n",
       "      <td>...</td>\n",
       "      <td>0.000000</td>\n",
       "      <td>0.000000</td>\n",
       "      <td>0.000000</td>\n",
       "      <td>0.000000</td>\n",
       "      <td>0.000000</td>\n",
       "      <td>0.000000</td>\n",
       "      <td>0.000000</td>\n",
       "      <td>0.000000</td>\n",
       "      <td>0.000000</td>\n",
       "      <td>0.000000</td>\n",
       "    </tr>\n",
       "    <tr>\n",
       "      <th>25%</th>\n",
       "      <td>0.000000</td>\n",
       "      <td>0.000000</td>\n",
       "      <td>0.000000</td>\n",
       "      <td>0.000000</td>\n",
       "      <td>0.000000</td>\n",
       "      <td>0.000000</td>\n",
       "      <td>0.000000</td>\n",
       "      <td>0.270000</td>\n",
       "      <td>0.247500</td>\n",
       "      <td>0.302500</td>\n",
       "      <td>...</td>\n",
       "      <td>12.000000</td>\n",
       "      <td>12.350000</td>\n",
       "      <td>12.050000</td>\n",
       "      <td>12.850000</td>\n",
       "      <td>12.900000</td>\n",
       "      <td>13.250000</td>\n",
       "      <td>13.850000</td>\n",
       "      <td>14.700000</td>\n",
       "      <td>16.000000</td>\n",
       "      <td>15.900000</td>\n",
       "    </tr>\n",
       "    <tr>\n",
       "      <th>50%</th>\n",
       "      <td>2.850000</td>\n",
       "      <td>2.140000</td>\n",
       "      <td>2.410000</td>\n",
       "      <td>1.885000</td>\n",
       "      <td>1.670000</td>\n",
       "      <td>2.080000</td>\n",
       "      <td>2.040000</td>\n",
       "      <td>2.080000</td>\n",
       "      <td>2.455000</td>\n",
       "      <td>2.365000</td>\n",
       "      <td>...</td>\n",
       "      <td>17.600000</td>\n",
       "      <td>18.900000</td>\n",
       "      <td>19.000000</td>\n",
       "      <td>19.300000</td>\n",
       "      <td>20.100000</td>\n",
       "      <td>20.400000</td>\n",
       "      <td>20.800000</td>\n",
       "      <td>21.100000</td>\n",
       "      <td>22.900000</td>\n",
       "      <td>23.350000</td>\n",
       "    </tr>\n",
       "    <tr>\n",
       "      <th>75%</th>\n",
       "      <td>4.670000</td>\n",
       "      <td>4.525000</td>\n",
       "      <td>4.675000</td>\n",
       "      <td>3.755000</td>\n",
       "      <td>3.930000</td>\n",
       "      <td>4.670000</td>\n",
       "      <td>3.937500</td>\n",
       "      <td>5.165000</td>\n",
       "      <td>5.522500</td>\n",
       "      <td>5.930000</td>\n",
       "      <td>...</td>\n",
       "      <td>26.975000</td>\n",
       "      <td>28.300000</td>\n",
       "      <td>28.900000</td>\n",
       "      <td>28.950000</td>\n",
       "      <td>29.450000</td>\n",
       "      <td>30.850000</td>\n",
       "      <td>31.300000</td>\n",
       "      <td>31.150000</td>\n",
       "      <td>32.050000</td>\n",
       "      <td>34.100000</td>\n",
       "    </tr>\n",
       "    <tr>\n",
       "      <th>max</th>\n",
       "      <td>9.000000</td>\n",
       "      <td>9.670000</td>\n",
       "      <td>12.500000</td>\n",
       "      <td>11.700000</td>\n",
       "      <td>17.700000</td>\n",
       "      <td>17.600000</td>\n",
       "      <td>20.000000</td>\n",
       "      <td>20.800000</td>\n",
       "      <td>21.600000</td>\n",
       "      <td>22.400000</td>\n",
       "      <td>...</td>\n",
       "      <td>57.000000</td>\n",
       "      <td>80.000000</td>\n",
       "      <td>60.100000</td>\n",
       "      <td>60.300000</td>\n",
       "      <td>60.500000</td>\n",
       "      <td>60.800000</td>\n",
       "      <td>61.300000</td>\n",
       "      <td>55.700000</td>\n",
       "      <td>55.700000</td>\n",
       "      <td>54.700000</td>\n",
       "    </tr>\n",
       "  </tbody>\n",
       "</table>\n",
       "<p>8 rows × 77 columns</p>\n",
       "</div>"
      ],
      "text/plain": [
       "            1945       1946       1947       1948       1949       1950  \\\n",
       "count  17.000000  34.000000  40.000000  48.000000  51.000000  53.000000   \n",
       "mean    2.874118   2.946471   3.166000   2.847500   3.242745   3.573585   \n",
       "std     2.684006   2.942937   3.444616   3.483672   4.209952   4.567136   \n",
       "min     0.000000   0.000000   0.000000   0.000000   0.000000   0.000000   \n",
       "25%     0.000000   0.000000   0.000000   0.000000   0.000000   0.000000   \n",
       "50%     2.850000   2.140000   2.410000   1.885000   1.670000   2.080000   \n",
       "75%     4.670000   4.525000   4.675000   3.755000   3.930000   4.670000   \n",
       "max     9.000000   9.670000  12.500000  11.700000  17.700000  17.600000   \n",
       "\n",
       "            1951       1952       1953       1954  ...        2012  \\\n",
       "count  56.000000  59.000000  60.000000  62.000000  ...  174.000000   \n",
       "mean    4.096786   4.384915   4.381833   4.379839  ...   20.136609   \n",
       "std     5.485465   5.571737   5.467268   5.576838  ...   11.656767   \n",
       "min     0.000000   0.000000   0.000000   0.000000  ...    0.000000   \n",
       "25%     0.000000   0.270000   0.247500   0.302500  ...   12.000000   \n",
       "50%     2.040000   2.080000   2.455000   2.365000  ...   17.600000   \n",
       "75%     3.937500   5.165000   5.522500   5.930000  ...   26.975000   \n",
       "max    20.000000  20.800000  21.600000  22.400000  ...   57.000000   \n",
       "\n",
       "             2013        2014        2015        2016        2017        2018  \\\n",
       "count  175.000000  175.000000  175.000000  175.000000  175.000000  175.000000   \n",
       "mean    21.113943   20.990629   21.178800   21.730114   22.212057   22.821600   \n",
       "std     12.375400   11.763950   11.566838   11.763865   11.892547   12.028124   \n",
       "min      0.000000    0.000000    0.000000    0.000000    0.000000    0.000000   \n",
       "25%     12.350000   12.050000   12.850000   12.900000   13.250000   13.850000   \n",
       "50%     18.900000   19.000000   19.300000   20.100000   20.400000   20.800000   \n",
       "75%     28.300000   28.900000   28.950000   29.450000   30.850000   31.300000   \n",
       "max     80.000000   60.100000   60.300000   60.500000   60.800000   61.300000   \n",
       "\n",
       "             2019        2020        2021  \n",
       "count  183.000000  182.000000  182.000000  \n",
       "mean    23.192896   24.207473   24.837857  \n",
       "std     11.863817   12.014269   12.500063  \n",
       "min      0.000000    0.000000    0.000000  \n",
       "25%     14.700000   16.000000   15.900000  \n",
       "50%     21.100000   22.900000   23.350000  \n",
       "75%     31.150000   32.050000   34.100000  \n",
       "max     55.700000   55.700000   54.700000  \n",
       "\n",
       "[8 rows x 77 columns]"
      ]
     },
     "execution_count": 11,
     "metadata": {},
     "output_type": "execute_result"
    }
   ],
   "source": [
    "#Checking the descriptive statistics of the dataset\n",
    "data.describe()"
   ]
  },
  {
   "cell_type": "markdown",
   "metadata": {},
   "source": [
    "Variable 1945 is not normally distributed becazse mean>median"
   ]
  },
  {
   "cell_type": "code",
   "execution_count": 5,
   "metadata": {},
   "outputs": [
    {
     "name": "stderr",
     "output_type": "stream",
     "text": [
      "C:\\Users\\USER\\AppData\\Local\\Temp\\ipykernel_8928\\4184645713.py:1: FutureWarning: The default value of numeric_only in DataFrame.median is deprecated. In a future version, it will default to False. In addition, specifying 'numeric_only=None' is deprecated. Select only valid columns or specify the value of numeric_only to silence this warning.\n",
      "  data.median()\n"
     ]
    },
    {
     "data": {
      "text/plain": [
       "1945     2.850\n",
       "1946     2.140\n",
       "1947     2.410\n",
       "1948     1.885\n",
       "1949     1.670\n",
       "         ...  \n",
       "2017    20.400\n",
       "2018    20.800\n",
       "2019    21.100\n",
       "2020    22.900\n",
       "2021    23.350\n",
       "Length: 77, dtype: float64"
      ]
     },
     "execution_count": 5,
     "metadata": {},
     "output_type": "execute_result"
    }
   ],
   "source": [
    "data.median()"
   ]
  },
  {
   "cell_type": "code",
   "execution_count": 12,
   "metadata": {},
   "outputs": [
    {
     "data": {
      "text/plain": [
       "count    53940.000000\n",
       "mean      3932.799722\n",
       "std       3989.439738\n",
       "min        326.000000\n",
       "25%        950.000000\n",
       "50%       2401.000000\n",
       "75%       5324.250000\n",
       "max      18823.000000\n",
       "Name: price, dtype: float64"
      ]
     },
     "execution_count": 12,
     "metadata": {},
     "output_type": "execute_result"
    }
   ],
   "source": [
    "#Checking the descriptive stats of a particular feature/variable/column\n",
    "data2[\"price\"].describe()"
   ]
  },
  {
   "cell_type": "code",
   "execution_count": 13,
   "metadata": {},
   "outputs": [
    {
     "data": {
      "text/plain": [
       "2401.0"
      ]
     },
     "execution_count": 13,
     "metadata": {},
     "output_type": "execute_result"
    }
   ],
   "source": [
    "#Looking at a particular descriptive statistic e.g. median\n",
    "data2[\"price\"].median()"
   ]
  },
  {
   "cell_type": "code",
   "execution_count": 14,
   "metadata": {},
   "outputs": [
    {
     "data": {
      "text/plain": [
       "184"
      ]
     },
     "execution_count": 14,
     "metadata": {},
     "output_type": "execute_result"
    }
   ],
   "source": [
    "#Checking for unique labels or values in the dataset\n",
    "data[\"country\"].nunique()"
   ]
  },
  {
   "attachments": {},
   "cell_type": "markdown",
   "metadata": {},
   "source": [
    "Describe will only return descriptive stats for numeric variables (float$ integer)\n",
    "\n",
    "To get descriptive stats for non-numeric, include the string/text data"
   ]
  },
  {
   "cell_type": "code",
   "execution_count": 15,
   "metadata": {},
   "outputs": [
    {
     "data": {
      "text/html": [
       "<div>\n",
       "<style scoped>\n",
       "    .dataframe tbody tr th:only-of-type {\n",
       "        vertical-align: middle;\n",
       "    }\n",
       "\n",
       "    .dataframe tbody tr th {\n",
       "        vertical-align: top;\n",
       "    }\n",
       "\n",
       "    .dataframe thead th {\n",
       "        text-align: right;\n",
       "    }\n",
       "</style>\n",
       "<table border=\"1\" class=\"dataframe\">\n",
       "  <thead>\n",
       "    <tr style=\"text-align: right;\">\n",
       "      <th></th>\n",
       "      <th>cut</th>\n",
       "      <th>color</th>\n",
       "      <th>clarity</th>\n",
       "    </tr>\n",
       "  </thead>\n",
       "  <tbody>\n",
       "    <tr>\n",
       "      <th>count</th>\n",
       "      <td>53940</td>\n",
       "      <td>53934</td>\n",
       "      <td>53940</td>\n",
       "    </tr>\n",
       "    <tr>\n",
       "      <th>unique</th>\n",
       "      <td>5</td>\n",
       "      <td>7</td>\n",
       "      <td>8</td>\n",
       "    </tr>\n",
       "    <tr>\n",
       "      <th>top</th>\n",
       "      <td>Ideal</td>\n",
       "      <td>G</td>\n",
       "      <td>SI1</td>\n",
       "    </tr>\n",
       "    <tr>\n",
       "      <th>freq</th>\n",
       "      <td>21551</td>\n",
       "      <td>11286</td>\n",
       "      <td>13065</td>\n",
       "    </tr>\n",
       "  </tbody>\n",
       "</table>\n",
       "</div>"
      ],
      "text/plain": [
       "          cut  color clarity\n",
       "count   53940  53934   53940\n",
       "unique      5      7       8\n",
       "top     Ideal      G     SI1\n",
       "freq    21551  11286   13065"
      ]
     },
     "execution_count": 15,
     "metadata": {},
     "output_type": "execute_result"
    }
   ],
   "source": [
    "import numpy as np\n",
    "data2.describe(include=object)"
   ]
  },
  {
   "attachments": {},
   "cell_type": "markdown",
   "metadata": {},
   "source": [
    "## 3. DATA CLEANING/ WRANGLING/ TRANSFORMATION ## "
   ]
  },
  {
   "attachments": {},
   "cell_type": "markdown",
   "metadata": {},
   "source": [
    "A. CHECKING FOR MISSING INFORMATION"
   ]
  },
  {
   "cell_type": "code",
   "execution_count": 5,
   "metadata": {},
   "outputs": [
    {
     "data": {
      "text/html": [
       "<div>\n",
       "<style scoped>\n",
       "    .dataframe tbody tr th:only-of-type {\n",
       "        vertical-align: middle;\n",
       "    }\n",
       "\n",
       "    .dataframe tbody tr th {\n",
       "        vertical-align: top;\n",
       "    }\n",
       "\n",
       "    .dataframe thead th {\n",
       "        text-align: right;\n",
       "    }\n",
       "</style>\n",
       "<table border=\"1\" class=\"dataframe\">\n",
       "  <thead>\n",
       "    <tr style=\"text-align: right;\">\n",
       "      <th></th>\n",
       "      <th>country</th>\n",
       "      <th>1945</th>\n",
       "      <th>1946</th>\n",
       "      <th>1947</th>\n",
       "      <th>1948</th>\n",
       "      <th>1949</th>\n",
       "      <th>1950</th>\n",
       "      <th>1951</th>\n",
       "      <th>1952</th>\n",
       "      <th>1953</th>\n",
       "      <th>...</th>\n",
       "      <th>2012</th>\n",
       "      <th>2013</th>\n",
       "      <th>2014</th>\n",
       "      <th>2015</th>\n",
       "      <th>2016</th>\n",
       "      <th>2017</th>\n",
       "      <th>2018</th>\n",
       "      <th>2019</th>\n",
       "      <th>2020</th>\n",
       "      <th>2021</th>\n",
       "    </tr>\n",
       "  </thead>\n",
       "  <tbody>\n",
       "    <tr>\n",
       "      <th>0</th>\n",
       "      <td>False</td>\n",
       "      <td>True</td>\n",
       "      <td>True</td>\n",
       "      <td>True</td>\n",
       "      <td>True</td>\n",
       "      <td>True</td>\n",
       "      <td>True</td>\n",
       "      <td>True</td>\n",
       "      <td>True</td>\n",
       "      <td>True</td>\n",
       "      <td>...</td>\n",
       "      <td>False</td>\n",
       "      <td>False</td>\n",
       "      <td>False</td>\n",
       "      <td>False</td>\n",
       "      <td>False</td>\n",
       "      <td>False</td>\n",
       "      <td>False</td>\n",
       "      <td>False</td>\n",
       "      <td>False</td>\n",
       "      <td>False</td>\n",
       "    </tr>\n",
       "    <tr>\n",
       "      <th>1</th>\n",
       "      <td>False</td>\n",
       "      <td>True</td>\n",
       "      <td>True</td>\n",
       "      <td>True</td>\n",
       "      <td>True</td>\n",
       "      <td>True</td>\n",
       "      <td>True</td>\n",
       "      <td>True</td>\n",
       "      <td>True</td>\n",
       "      <td>True</td>\n",
       "      <td>...</td>\n",
       "      <td>False</td>\n",
       "      <td>False</td>\n",
       "      <td>False</td>\n",
       "      <td>False</td>\n",
       "      <td>False</td>\n",
       "      <td>False</td>\n",
       "      <td>False</td>\n",
       "      <td>False</td>\n",
       "      <td>False</td>\n",
       "      <td>False</td>\n",
       "    </tr>\n",
       "    <tr>\n",
       "      <th>2</th>\n",
       "      <td>False</td>\n",
       "      <td>False</td>\n",
       "      <td>False</td>\n",
       "      <td>False</td>\n",
       "      <td>False</td>\n",
       "      <td>False</td>\n",
       "      <td>False</td>\n",
       "      <td>False</td>\n",
       "      <td>False</td>\n",
       "      <td>False</td>\n",
       "      <td>...</td>\n",
       "      <td>False</td>\n",
       "      <td>False</td>\n",
       "      <td>False</td>\n",
       "      <td>False</td>\n",
       "      <td>False</td>\n",
       "      <td>False</td>\n",
       "      <td>False</td>\n",
       "      <td>False</td>\n",
       "      <td>False</td>\n",
       "      <td>False</td>\n",
       "    </tr>\n",
       "    <tr>\n",
       "      <th>3</th>\n",
       "      <td>False</td>\n",
       "      <td>True</td>\n",
       "      <td>True</td>\n",
       "      <td>True</td>\n",
       "      <td>True</td>\n",
       "      <td>True</td>\n",
       "      <td>True</td>\n",
       "      <td>True</td>\n",
       "      <td>True</td>\n",
       "      <td>True</td>\n",
       "      <td>...</td>\n",
       "      <td>False</td>\n",
       "      <td>False</td>\n",
       "      <td>False</td>\n",
       "      <td>False</td>\n",
       "      <td>False</td>\n",
       "      <td>False</td>\n",
       "      <td>False</td>\n",
       "      <td>False</td>\n",
       "      <td>False</td>\n",
       "      <td>False</td>\n",
       "    </tr>\n",
       "    <tr>\n",
       "      <th>4</th>\n",
       "      <td>False</td>\n",
       "      <td>True</td>\n",
       "      <td>True</td>\n",
       "      <td>True</td>\n",
       "      <td>True</td>\n",
       "      <td>True</td>\n",
       "      <td>True</td>\n",
       "      <td>True</td>\n",
       "      <td>True</td>\n",
       "      <td>True</td>\n",
       "      <td>...</td>\n",
       "      <td>False</td>\n",
       "      <td>False</td>\n",
       "      <td>False</td>\n",
       "      <td>False</td>\n",
       "      <td>False</td>\n",
       "      <td>False</td>\n",
       "      <td>False</td>\n",
       "      <td>False</td>\n",
       "      <td>False</td>\n",
       "      <td>False</td>\n",
       "    </tr>\n",
       "    <tr>\n",
       "      <th>...</th>\n",
       "      <td>...</td>\n",
       "      <td>...</td>\n",
       "      <td>...</td>\n",
       "      <td>...</td>\n",
       "      <td>...</td>\n",
       "      <td>...</td>\n",
       "      <td>...</td>\n",
       "      <td>...</td>\n",
       "      <td>...</td>\n",
       "      <td>...</td>\n",
       "      <td>...</td>\n",
       "      <td>...</td>\n",
       "      <td>...</td>\n",
       "      <td>...</td>\n",
       "      <td>...</td>\n",
       "      <td>...</td>\n",
       "      <td>...</td>\n",
       "      <td>...</td>\n",
       "      <td>...</td>\n",
       "      <td>...</td>\n",
       "      <td>...</td>\n",
       "    </tr>\n",
       "    <tr>\n",
       "      <th>179</th>\n",
       "      <td>False</td>\n",
       "      <td>True</td>\n",
       "      <td>True</td>\n",
       "      <td>True</td>\n",
       "      <td>True</td>\n",
       "      <td>True</td>\n",
       "      <td>True</td>\n",
       "      <td>True</td>\n",
       "      <td>True</td>\n",
       "      <td>True</td>\n",
       "      <td>...</td>\n",
       "      <td>False</td>\n",
       "      <td>False</td>\n",
       "      <td>False</td>\n",
       "      <td>False</td>\n",
       "      <td>False</td>\n",
       "      <td>False</td>\n",
       "      <td>False</td>\n",
       "      <td>False</td>\n",
       "      <td>False</td>\n",
       "      <td>False</td>\n",
       "    </tr>\n",
       "    <tr>\n",
       "      <th>180</th>\n",
       "      <td>False</td>\n",
       "      <td>True</td>\n",
       "      <td>True</td>\n",
       "      <td>True</td>\n",
       "      <td>True</td>\n",
       "      <td>True</td>\n",
       "      <td>True</td>\n",
       "      <td>True</td>\n",
       "      <td>True</td>\n",
       "      <td>True</td>\n",
       "      <td>...</td>\n",
       "      <td>False</td>\n",
       "      <td>False</td>\n",
       "      <td>False</td>\n",
       "      <td>False</td>\n",
       "      <td>False</td>\n",
       "      <td>False</td>\n",
       "      <td>False</td>\n",
       "      <td>False</td>\n",
       "      <td>False</td>\n",
       "      <td>False</td>\n",
       "    </tr>\n",
       "    <tr>\n",
       "      <th>181</th>\n",
       "      <td>False</td>\n",
       "      <td>True</td>\n",
       "      <td>True</td>\n",
       "      <td>True</td>\n",
       "      <td>True</td>\n",
       "      <td>True</td>\n",
       "      <td>True</td>\n",
       "      <td>True</td>\n",
       "      <td>True</td>\n",
       "      <td>True</td>\n",
       "      <td>...</td>\n",
       "      <td>False</td>\n",
       "      <td>False</td>\n",
       "      <td>False</td>\n",
       "      <td>False</td>\n",
       "      <td>False</td>\n",
       "      <td>False</td>\n",
       "      <td>False</td>\n",
       "      <td>False</td>\n",
       "      <td>False</td>\n",
       "      <td>False</td>\n",
       "    </tr>\n",
       "    <tr>\n",
       "      <th>182</th>\n",
       "      <td>False</td>\n",
       "      <td>True</td>\n",
       "      <td>True</td>\n",
       "      <td>True</td>\n",
       "      <td>True</td>\n",
       "      <td>True</td>\n",
       "      <td>True</td>\n",
       "      <td>True</td>\n",
       "      <td>True</td>\n",
       "      <td>True</td>\n",
       "      <td>...</td>\n",
       "      <td>False</td>\n",
       "      <td>False</td>\n",
       "      <td>False</td>\n",
       "      <td>False</td>\n",
       "      <td>False</td>\n",
       "      <td>False</td>\n",
       "      <td>False</td>\n",
       "      <td>False</td>\n",
       "      <td>False</td>\n",
       "      <td>False</td>\n",
       "    </tr>\n",
       "    <tr>\n",
       "      <th>183</th>\n",
       "      <td>False</td>\n",
       "      <td>True</td>\n",
       "      <td>True</td>\n",
       "      <td>True</td>\n",
       "      <td>False</td>\n",
       "      <td>False</td>\n",
       "      <td>False</td>\n",
       "      <td>False</td>\n",
       "      <td>False</td>\n",
       "      <td>False</td>\n",
       "      <td>...</td>\n",
       "      <td>False</td>\n",
       "      <td>False</td>\n",
       "      <td>False</td>\n",
       "      <td>False</td>\n",
       "      <td>False</td>\n",
       "      <td>False</td>\n",
       "      <td>False</td>\n",
       "      <td>False</td>\n",
       "      <td>False</td>\n",
       "      <td>False</td>\n",
       "    </tr>\n",
       "  </tbody>\n",
       "</table>\n",
       "<p>184 rows × 78 columns</p>\n",
       "</div>"
      ],
      "text/plain": [
       "     country   1945   1946   1947   1948   1949   1950   1951   1952   1953  \\\n",
       "0      False   True   True   True   True   True   True   True   True   True   \n",
       "1      False   True   True   True   True   True   True   True   True   True   \n",
       "2      False  False  False  False  False  False  False  False  False  False   \n",
       "3      False   True   True   True   True   True   True   True   True   True   \n",
       "4      False   True   True   True   True   True   True   True   True   True   \n",
       "..       ...    ...    ...    ...    ...    ...    ...    ...    ...    ...   \n",
       "179    False   True   True   True   True   True   True   True   True   True   \n",
       "180    False   True   True   True   True   True   True   True   True   True   \n",
       "181    False   True   True   True   True   True   True   True   True   True   \n",
       "182    False   True   True   True   True   True   True   True   True   True   \n",
       "183    False   True   True   True  False  False  False  False  False  False   \n",
       "\n",
       "     ...   2012   2013   2014   2015   2016   2017   2018   2019   2020   2021  \n",
       "0    ...  False  False  False  False  False  False  False  False  False  False  \n",
       "1    ...  False  False  False  False  False  False  False  False  False  False  \n",
       "2    ...  False  False  False  False  False  False  False  False  False  False  \n",
       "3    ...  False  False  False  False  False  False  False  False  False  False  \n",
       "4    ...  False  False  False  False  False  False  False  False  False  False  \n",
       "..   ...    ...    ...    ...    ...    ...    ...    ...    ...    ...    ...  \n",
       "179  ...  False  False  False  False  False  False  False  False  False  False  \n",
       "180  ...  False  False  False  False  False  False  False  False  False  False  \n",
       "181  ...  False  False  False  False  False  False  False  False  False  False  \n",
       "182  ...  False  False  False  False  False  False  False  False  False  False  \n",
       "183  ...  False  False  False  False  False  False  False  False  False  False  \n",
       "\n",
       "[184 rows x 78 columns]"
      ]
     },
     "execution_count": 5,
     "metadata": {},
     "output_type": "execute_result"
    }
   ],
   "source": [
    "data.isna()"
   ]
  },
  {
   "cell_type": "code",
   "execution_count": 16,
   "metadata": {},
   "outputs": [
    {
     "data": {
      "text/plain": [
       "country      0\n",
       "1945       167\n",
       "1946       150\n",
       "1947       144\n",
       "1948       136\n",
       "          ... \n",
       "2017         9\n",
       "2018         9\n",
       "2019         1\n",
       "2020         2\n",
       "2021         2\n",
       "Length: 78, dtype: int64"
      ]
     },
     "execution_count": 16,
     "metadata": {},
     "output_type": "execute_result"
    }
   ],
   "source": [
    "data.isna().sum()"
   ]
  },
  {
   "cell_type": "code",
   "execution_count": 17,
   "metadata": {},
   "outputs": [
    {
     "data": {
      "text/plain": [
       "price       0\n",
       "carat       0\n",
       "cut         0\n",
       "color       6\n",
       "clarity     0\n",
       "depth      14\n",
       "table       0\n",
       "x           0\n",
       "y           0\n",
       "z           0\n",
       "dtype: int64"
      ]
     },
     "execution_count": 17,
     "metadata": {},
     "output_type": "execute_result"
    }
   ],
   "source": [
    "data2.isna().sum()"
   ]
  },
  {
   "cell_type": "code",
   "execution_count": 18,
   "metadata": {},
   "outputs": [
    {
     "data": {
      "text/plain": [
       "psraid      0\n",
       "int_date    0\n",
       "lang        0\n",
       "sample      0\n",
       "segment     0\n",
       "           ..\n",
       "age1834     0\n",
       "wt1         0\n",
       "pupsa       0\n",
       "wt2         0\n",
       "weight      0\n",
       "Length: 139, dtype: int64"
      ]
     },
     "execution_count": 18,
     "metadata": {},
     "output_type": "execute_result"
    }
   ],
   "source": [
    "data3.isna().sum()"
   ]
  },
  {
   "attachments": {},
   "cell_type": "markdown",
   "metadata": {},
   "source": [
    "The .isna() function checks for missing data on it's own\n",
    "\n",
    "The addition of .sum() at the end is a more robust form of checking "
   ]
  },
  {
   "attachments": {},
   "cell_type": "markdown",
   "metadata": {},
   "source": [
    "B. CHECKING FOR OUTLIERS/ UNUSUAL OBSERVATIONS"
   ]
  },
  {
   "cell_type": "code",
   "execution_count": 19,
   "metadata": {},
   "outputs": [
    {
     "data": {
      "image/png": "[encoded data removed]",
      "text/plain": [
       "<Figure size 640x480 with 1 Axes>"
      ]
     },
     "metadata": {},
     "output_type": "display_data"
    }
   ],
   "source": [
    "#Use data visualization techniques to inspect the data’s distribution and verify the presence of outliers\n",
    "#Use either the library seaborn or matplotlib\n",
    "import seaborn as sns #visual library\n",
    "import matplotlib as mat  #visual library\n",
    "\n",
    "#Check for outliers in the year 2021 for the Female_Mps dataset\n",
    "Outliers_2021 = sns.boxplot(data['2021'])"
   ]
  },
  {
   "attachments": {},
   "cell_type": "markdown",
   "metadata": {},
   "source": [
    "The above boxplot shows no outliers in year 2021.\n",
    "\n",
    "Let's try another dataset"
   ]
  },
  {
   "cell_type": "code",
   "execution_count": 20,
   "metadata": {},
   "outputs": [
    {
     "data": {
      "image/png": "[encoded data removed]",
      "text/plain": [
       "<Figure size 640x480 with 1 Axes>"
      ]
     },
     "metadata": {},
     "output_type": "display_data"
    }
   ],
   "source": [
    "#Check for outliers in the variable \"price\" for the Diamonds dataset\n",
    "Outliers_price = sns.boxplot(data2['price'])"
   ]
  },
  {
   "attachments": {},
   "cell_type": "markdown",
   "metadata": {},
   "source": [
    "The upper quartile shows many outliers in the variable price"
   ]
  },
  {
   "cell_type": "code",
   "execution_count": 23,
   "metadata": {},
   "outputs": [
    {
     "name": "stdout",
     "output_type": "stream",
     "text": [
      "Upper bound: 0        False\n",
      "1        False\n",
      "2        False\n",
      "3        False\n",
      "4        False\n",
      "         ...  \n",
      "53935    False\n",
      "53936    False\n",
      "53937    False\n",
      "53938    False\n",
      "53939    False\n",
      "Name: price, Length: 53940, dtype: bool\n",
      "(array([23822, 23823, 23824, ..., 27747, 27748, 27749], dtype=int64),)\n",
      "Lower bound: 0        False\n",
      "1        False\n",
      "2        False\n",
      "3        False\n",
      "4        False\n",
      "         ...  \n",
      "53935    False\n",
      "53936    False\n",
      "53937    False\n",
      "53938    False\n",
      "53939    False\n",
      "Name: price, Length: 53940, dtype: bool\n",
      "(array([], dtype=int64),)\n"
     ]
    },
    {
     "name": "stderr",
     "output_type": "stream",
     "text": [
      "C:\\Users\\USER\\AppData\\Local\\Temp\\ipykernel_6704\\1577706603.py:2: DeprecationWarning: the `interpolation=` argument to percentile was renamed to `method=`, which has additional options.\n",
      "Users of the modes 'nearest', 'lower', 'higher', or 'midpoint' are encouraged to review the method they used. (Deprecated NumPy 1.22)\n",
      "  Q1 = np.percentile(data2['price'], 25,\n",
      "C:\\Users\\USER\\AppData\\Local\\Temp\\ipykernel_6704\\1577706603.py:5: DeprecationWarning: the `interpolation=` argument to percentile was renamed to `method=`, which has additional options.\n",
      "Users of the modes 'nearest', 'lower', 'higher', or 'midpoint' are encouraged to review the method they used. (Deprecated NumPy 1.22)\n",
      "  Q3 = np.percentile(data2['price'], 75,\n"
     ]
    }
   ],
   "source": [
    "#Outliers can also be detected using IQR method which is more robust \n",
    "Q1 = np.percentile(data2['price'], 25,\n",
    "                   interpolation = 'midpoint')\n",
    " \n",
    "Q3 = np.percentile(data2['price'], 75,\n",
    "                   interpolation = 'midpoint')\n",
    "IQR = Q3 - Q1\n",
    "# Above Upper bound\n",
    "upper = data2['price'] >= (Q3+1.5*IQR)\n",
    " \n",
    "print(\"Upper bound:\",upper)\n",
    "print(np.where(upper))\n",
    " \n",
    "# Below Lower bound\n",
    "lower = data2['price'] <= (Q1-1.5*IQR)\n",
    "print(\"Lower bound:\", lower)\n",
    "print(np.where(lower))"
   ]
  },
  {
   "attachments": {},
   "cell_type": "markdown",
   "metadata": {},
   "source": [
    "We can see there's a list (array) of outlier points on the upper-bound point"
   ]
  },
  {
   "attachments": {},
   "cell_type": "markdown",
   "metadata": {},
   "source": [
    "C. HANDLING MISSING INFORMATION"
   ]
  },
  {
   "attachments": {},
   "cell_type": "markdown",
   "metadata": {},
   "source": [
    "1. Remove the missing points if no more than 30% of dataset\n",
    "\n",
    "2. Impute missing data with zeros (if certain there was no information)\n",
    "\n",
    "3. Impute with mean (if numeric variables are normally distributed)\n",
    "\n",
    "4. Impute with median (if numeric variables are not normally distributed)\n",
    "\n",
    "5. Impute with mode (if variables are text/string/objects)"
   ]
  },
  {
   "cell_type": "code",
   "execution_count": 21,
   "metadata": {},
   "outputs": [
    {
     "data": {
      "text/plain": [
       "price       0\n",
       "carat       0\n",
       "cut         0\n",
       "color       6\n",
       "clarity     0\n",
       "depth      14\n",
       "table       0\n",
       "x           0\n",
       "y           0\n",
       "z           0\n",
       "dtype: int64"
      ]
     },
     "execution_count": 21,
     "metadata": {},
     "output_type": "execute_result"
    }
   ],
   "source": [
    "#Removing missing data\n",
    "#For instance Diamonds dataset has few missing observations\n",
    "data2.isna().sum()"
   ]
  },
  {
   "cell_type": "code",
   "execution_count": 22,
   "metadata": {},
   "outputs": [
    {
     "data": {
      "text/plain": [
       "price      0\n",
       "carat      0\n",
       "cut        0\n",
       "color      0\n",
       "clarity    0\n",
       "depth      0\n",
       "table      0\n",
       "x          0\n",
       "y          0\n",
       "z          0\n",
       "dtype: int64"
      ]
     },
     "execution_count": 22,
     "metadata": {},
     "output_type": "execute_result"
    }
   ],
   "source": [
    "#After removing the missing info, we generate a new dataframe (Not prudent)\n",
    "data2_new = data2.dropna()\n",
    "data2_new.isna().sum()"
   ]
  },
  {
   "cell_type": "code",
   "execution_count": 26,
   "metadata": {},
   "outputs": [
    {
     "data": {
      "text/plain": [
       "country      0\n",
       "1945       167\n",
       "1946       150\n",
       "1947       144\n",
       "1948       136\n",
       "          ... \n",
       "2017         9\n",
       "2018         9\n",
       "2019         1\n",
       "2020         2\n",
       "2021         2\n",
       "Length: 78, dtype: int64"
      ]
     },
     "execution_count": 26,
     "metadata": {},
     "output_type": "execute_result"
    }
   ],
   "source": [
    "#The MPs dataset has more missing data, so we can't just delete\n",
    "data.isna().sum()"
   ]
  },
  {
   "cell_type": "code",
   "execution_count": 23,
   "metadata": {},
   "outputs": [
    {
     "data": {
      "text/plain": [
       "country    0\n",
       "1945       0\n",
       "1946       0\n",
       "1947       0\n",
       "1948       0\n",
       "          ..\n",
       "2017       0\n",
       "2018       0\n",
       "2019       0\n",
       "2020       0\n",
       "2021       0\n",
       "Length: 78, dtype: int64"
      ]
     },
     "execution_count": 23,
     "metadata": {},
     "output_type": "execute_result"
    }
   ],
   "source": [
    "#We can impute the missing information with zero since we are certain there\n",
    "#were no MPs recorded\n",
    "data_new = data.fillna(0)\n",
    "data_new.isna().sum()"
   ]
  },
  {
   "attachments": {},
   "cell_type": "markdown",
   "metadata": {},
   "source": [
    "The function .fillna(0) allows for imputation with zero\n",
    "\n",
    "This very function can be used to impute with mean, median or mode"
   ]
  },
  {
   "cell_type": "code",
   "execution_count": 24,
   "metadata": {},
   "outputs": [
    {
     "data": {
      "image/png": "[encoded data removed]",
      "text/plain": [
       "<Figure size 640x480 with 1 Axes>"
      ]
     },
     "metadata": {},
     "output_type": "display_data"
    }
   ],
   "source": [
    "#To impute with mean/median, we must first check the distribution of a variable\n",
    "#Check distribution visually\n",
    "#For instance checking for distribution of variable \"depth\" in Diamonds dataset\n",
    "Depth = sns.boxplot(data2['depth'])"
   ]
  },
  {
   "cell_type": "code",
   "execution_count": 25,
   "metadata": {},
   "outputs": [
    {
     "data": {
      "text/plain": [
       "<AxesSubplot: >"
      ]
     },
     "execution_count": 25,
     "metadata": {},
     "output_type": "execute_result"
    },
    {
     "data": {
      "image/png": "[encoded data removed]",
      "text/plain": [
       "<Figure size 640x480 with 1 Axes>"
      ]
     },
     "metadata": {},
     "output_type": "display_data"
    }
   ],
   "source": [
    "#Or use a histogram to observe distribution\n",
    "%matplotlib inline\n",
    "# Creating histogram chart as the Target variable (depth) is Continuous\n",
    "data2['depth'].hist()"
   ]
  },
  {
   "attachments": {},
   "cell_type": "markdown",
   "metadata": {},
   "source": [
    "Depth has many outliers and isn't normally distributed"
   ]
  },
  {
   "cell_type": "code",
   "execution_count": 26,
   "metadata": {},
   "outputs": [
    {
     "data": {
      "text/plain": [
       "price      0\n",
       "carat      0\n",
       "cut        0\n",
       "color      6\n",
       "clarity    0\n",
       "depth      0\n",
       "table      0\n",
       "x          0\n",
       "y          0\n",
       "z          0\n",
       "dtype: int64"
      ]
     },
     "execution_count": 26,
     "metadata": {},
     "output_type": "execute_result"
    }
   ],
   "source": [
    "#So impute for missing information using median or first handle the outliers\n",
    "# Replacing missing value for depth using median value\n",
    "data2['depth'].fillna(value=data2['depth'].median(), inplace=True)\n",
    "\n",
    "# Checking missing values again after treatment\n",
    "data2.isnull().sum()"
   ]
  },
  {
   "cell_type": "code",
   "execution_count": 27,
   "metadata": {},
   "outputs": [],
   "source": [
    "# We can see the variable color has missing data\n",
    "#Since it is a categorical/string/text variable, we impute using mode\n",
    "# Replacing missing value for color using mode value\n",
    "data2['color'].fillna(value=data2['color'].mode(), inplace=True)\n"
   ]
  },
  {
   "attachments": {},
   "cell_type": "markdown",
   "metadata": {},
   "source": [
    "## 4.VISUALLY INSPECTING DISTRIBUTION OF A DATASET ##"
   ]
  },
  {
   "attachments": {},
   "cell_type": "markdown",
   "metadata": {},
   "source": [
    "Visual Exploratory Data Analysis informs us on the distribution of observations making it possible to notice any outliers\n",
    "\n",
    "Categorical variables: Bar plot/ Boxplots\n",
    "\n",
    "Continuous variables: Histogram/ Boxplots"
   ]
  },
  {
   "cell_type": "code",
   "execution_count": 28,
   "metadata": {},
   "outputs": [],
   "source": [
    "# Plotting multiple bar charts at once for categorical variables\n",
    "# Since there is no default function which can plot bar charts for multiple columns at once\n",
    "# we are defining our own function for the same\n",
    "\n",
    "def PlotBarCharts(inpData, colsToPlot):\n",
    "    %matplotlib inline\n",
    "    \n",
    "    import matplotlib.pyplot as plt\n",
    "    \n",
    "    # Generating multiple subplots\n",
    "    fig, subPlot=plt.subplots(nrows=1, ncols=len(colsToPlot), figsize=(20,5))\n",
    "    fig.suptitle('Bar charts of: '+ str(colsToPlot))\n",
    "\n",
    "    for colName, plotNumber in zip(colsToPlot, range(len(colsToPlot))):\n",
    "        inpData.groupby(colName).size().plot(kind='bar',ax=subPlot[plotNumber])"
   ]
  },
  {
   "cell_type": "code",
   "execution_count": 29,
   "metadata": {},
   "outputs": [
    {
     "data": {
      "image/png": "[encoded data removed]",
      "text/plain": [
       "<Figure size 2000x500 with 3 Axes>"
      ]
     },
     "metadata": {},
     "output_type": "display_data"
    }
   ],
   "source": [
    "# Using the function for categorical variables in Diamonds dataset\n",
    "PlotBarCharts(inpData=data2, colsToPlot=['cut', 'color', 'clarity'])"
   ]
  },
  {
   "cell_type": "code",
   "execution_count": 30,
   "metadata": {},
   "outputs": [
    {
     "data": {
      "image/png": "[encoded data removed]",
      "text/plain": [
       "<Figure size 2000x500 with 3 Axes>"
      ]
     },
     "metadata": {},
     "output_type": "display_data"
    }
   ],
   "source": [
    "# Using the function for categorical variables in the spss survey data\n",
    "PlotBarCharts(inpData=data3, colsToPlot=['state', 'cregion', 'density'])"
   ]
  },
  {
   "cell_type": "code",
   "execution_count": 38,
   "metadata": {},
   "outputs": [
    {
     "data": {
      "text/plain": [
       "array([[<AxesSubplot: title={'center': 'carat'}>,\n",
       "        <AxesSubplot: title={'center': 'depth'}>],\n",
       "       [<AxesSubplot: title={'center': 'table'}>,\n",
       "        <AxesSubplot: title={'center': 'x'}>],\n",
       "       [<AxesSubplot: title={'center': 'y'}>,\n",
       "        <AxesSubplot: title={'center': 'z'}>]], dtype=object)"
      ]
     },
     "execution_count": 38,
     "metadata": {},
     "output_type": "execute_result"
    },
    {
     "data": {
      "image/png": "[encoded data removed]",
      "text/plain": [
       "<Figure size 1800x1000 with 6 Axes>"
      ]
     },
     "metadata": {},
     "output_type": "display_data"
    }
   ],
   "source": [
    "# Plotting histograms of multiple columns together\n",
    "data2.hist(['carat', 'depth', 'table', 'x','y','z'], figsize=(18,10))"
   ]
  },
  {
   "attachments": {},
   "cell_type": "markdown",
   "metadata": {},
   "source": [
    "A.Interpretation of bar charts (distribution of categorical variables)\n",
    "\n",
    "Diamonds dataset\n",
    "\n",
    "i) Cut: The observations are not normally distributed with most obeservations being \"Ideal\" and the least \"fair.\" This presents outliers that could result from uneven data collection, or this could be the actual market scenario.\n",
    "\n",
    "ii) Color: Normally distributed forming a bell-curve\n",
    "\n",
    "iii) Clarity: Not normally distributed\n",
    "\n",
    "Survey dataset\n",
    "\n",
    "i)States: Not normally distributed\n",
    "\n",
    "ii)cRegion: Not normally distributed but acceptable\n",
    "\n",
    "iii)density: Negatively-skewed with the highest density at 5.0. Implies mode is higher than median\n",
    "\n",
    "\n",
    "B.Interpretation of histograms (distribution of continuous variables)\n",
    "\n",
    "All variables are not normally distributed;\n",
    "\n",
    "i) Carat: Positively-skewed i.e. mean>median\n",
    "\n",
    "ii) depth: No observations before 57 and after 68. Clear indication of outliers.\n",
    "\n",
    "iii) Similar trends for \"table\", \"x\", \"y\" and \"z\"\n",
    "\n"
   ]
  },
  {
   "attachments": {},
   "cell_type": "markdown",
   "metadata": {},
   "source": [
    "C. Visually inspecting outliers  using boxplot"
   ]
  },
  {
   "cell_type": "code",
   "execution_count": 31,
   "metadata": {},
   "outputs": [
    {
     "data": {
      "text/plain": [
       "<AxesSubplot: >"
      ]
     },
     "execution_count": 31,
     "metadata": {},
     "output_type": "execute_result"
    },
    {
     "data": {
      "image/png": "[encoded data removed]",
      "text/plain": [
       "<Figure size 640x480 with 1 Axes>"
      ]
     },
     "metadata": {},
     "output_type": "display_data"
    }
   ],
   "source": [
    "#Generate a boxplot of depth again\n",
    "sns.boxplot(data2['depth'])"
   ]
  },
  {
   "cell_type": "code",
   "execution_count": 36,
   "metadata": {},
   "outputs": [
    {
     "name": "stdout",
     "output_type": "stream",
     "text": [
      "Collecting statsmodels"
     ]
    },
    {
     "name": "stderr",
     "output_type": "stream",
     "text": [
      "\n",
      "[notice] A new release of pip available: 22.3.1 -> 23.0.1\n",
      "[notice] To update, run: python.exe -m pip install --upgrade pip\n"
     ]
    },
    {
     "name": "stdout",
     "output_type": "stream",
     "text": [
      "\n",
      "  Downloading statsmodels-0.13.5-cp311-cp311-win_amd64.whl (9.0 MB)\n",
      "     ---------------------------------------- 9.0/9.0 MB 3.7 MB/s eta 0:00:00\n",
      "Requirement already satisfied: pandas>=0.25 in c:\\users\\user\\appdata\\local\\programs\\python\\python311\\lib\\site-packages (from statsmodels) (1.5.3)\n",
      "Collecting patsy>=0.5.2\n",
      "  Downloading patsy-0.5.3-py2.py3-none-any.whl (233 kB)\n",
      "     -------------------------------------- 233.8/233.8 kB 1.8 MB/s eta 0:00:00\n",
      "Requirement already satisfied: packaging>=21.3 in c:\\users\\user\\appdata\\local\\programs\\python\\python311\\lib\\site-packages (from statsmodels) (23.0)\n",
      "Requirement already satisfied: scipy>=1.3 in c:\\users\\user\\appdata\\local\\programs\\python\\python311\\lib\\site-packages (from statsmodels) (1.10.0)\n",
      "Requirement already satisfied: numpy>=1.17 in c:\\users\\user\\appdata\\local\\programs\\python\\python311\\lib\\site-packages (from statsmodels) (1.23.5)\n",
      "Requirement already satisfied: python-dateutil>=2.8.1 in c:\\users\\user\\appdata\\local\\programs\\python\\python311\\lib\\site-packages (from pandas>=0.25->statsmodels) (2.8.2)\n",
      "Requirement already satisfied: pytz>=2020.1 in c:\\users\\user\\appdata\\local\\programs\\python\\python311\\lib\\site-packages (from pandas>=0.25->statsmodels) (2022.7.1)\n",
      "Requirement already satisfied: six in c:\\users\\user\\appdata\\local\\programs\\python\\python311\\lib\\site-packages (from patsy>=0.5.2->statsmodels) (1.16.0)\n",
      "Installing collected packages: patsy, statsmodels\n",
      "Successfully installed patsy-0.5.3 statsmodels-0.13.5\n"
     ]
    }
   ],
   "source": [
    "!pip install statsmodels"
   ]
  },
  {
   "cell_type": "code",
   "execution_count": 37,
   "metadata": {},
   "outputs": [],
   "source": [
    "import statsmodels\n",
    "import statsmodels.graphics.gofplots"
   ]
  },
  {
   "cell_type": "code",
   "execution_count": 42,
   "metadata": {},
   "outputs": [
    {
     "data": {
      "image/png": "[encoded data removed]",
      "text/plain": [
       "<Figure size 640x480 with 1 Axes>"
      ]
     },
     "metadata": {},
     "output_type": "display_data"
    }
   ],
   "source": [
    "#Plot distribution of the dataset using a Q-Q plot\n",
    "#Import key libraries\n",
    "from numpy.random import seed\n",
    "from numpy.random import randn\n",
    "from statsmodels.graphics.gofplots import qqplot\n",
    "from matplotlib import pyplot\n",
    "\n",
    "# seed the random number generator\n",
    "seed(1)\n",
    "\n",
    "# generate univariate observations\n",
    "data2 = 5 * randn(100) + 50\n",
    "# q-q plot\n",
    "qqplot((data2), line='s')\n",
    "pyplot.show()"
   ]
  },
  {
   "attachments": {},
   "cell_type": "markdown",
   "metadata": {},
   "source": [
    "We clearly see outliers before 57 (lower quartile) and after 65 (upper quartile) for depth.\n",
    "\n",
    "The Q-Q plot shows outliers that veer off the trendline (red) before -1 and after 1.5 for the entire dataset"
   ]
  },
  {
   "attachments": {},
   "cell_type": "markdown",
   "metadata": {},
   "source": [
    "C. Normal distribution can also be tested statistically\n",
    "\n",
    "i. Shapiro-Wilk Test for samples between 3 and 5000\n",
    "\n",
    "ii. Kolmogorov-Smirnov Test for samples>5000. \n",
    "\n",
    "If the p-value of these tests is greater than α = 0.05, then the data is assumed to be normally distributed."
   ]
  },
  {
   "attachments": {},
   "cell_type": "markdown",
   "metadata": {},
   "source": [
    "i. Shapiro-Wilk test"
   ]
  },
  {
   "cell_type": "code",
   "execution_count": 43,
   "metadata": {},
   "outputs": [
    {
     "name": "stdout",
     "output_type": "stream",
     "text": [
      "Statistics=0.992, p=0.822\n",
      "Sample looks Gaussian (fail to reject H0)\n"
     ]
    }
   ],
   "source": [
    "#For diamonds dataset\n",
    "\n",
    "# Shapiro-Wilk Test\n",
    "from scipy.stats import shapiro\n",
    "# normality test\n",
    "stat, p = shapiro(data2)\n",
    "print('Statistics=%.3f, p=%.3f' % (stat, p))\n",
    "# interpret results\n",
    "alpha = 0.05\n",
    "if p > alpha:\n",
    "    print('Sample looks Gaussian (fail to reject H0)')\n",
    "else:\n",
    "    print('Sample does not look Gaussian (reject H0)')"
   ]
  },
  {
   "attachments": {},
   "cell_type": "markdown",
   "metadata": {},
   "source": [
    "The resultant test statistic is 0.922 and p=0.822. p-value>0.05, therefore the diamonds dataset is normally distributed."
   ]
  },
  {
   "cell_type": "code",
   "execution_count": 1,
   "metadata": {},
   "outputs": [
    {
     "ename": "ModuleNotFoundError",
     "evalue": "No module named 'scipy'",
     "output_type": "error",
     "traceback": [
      "\u001b[1;31m---------------------------------------------------------------------------\u001b[0m",
      "\u001b[1;31mModuleNotFoundError\u001b[0m                       Traceback (most recent call last)",
      "Cell \u001b[1;32mIn[1], line 4\u001b[0m\n\u001b[0;32m      1\u001b[0m \u001b[38;5;66;03m#For Mps dataset\u001b[39;00m\n\u001b[0;32m      2\u001b[0m \n\u001b[0;32m      3\u001b[0m \u001b[38;5;66;03m# Shapiro-Wilk Test\u001b[39;00m\n\u001b[1;32m----> 4\u001b[0m \u001b[38;5;28;01mfrom\u001b[39;00m \u001b[38;5;21;01mscipy\u001b[39;00m\u001b[38;5;21;01m.\u001b[39;00m\u001b[38;5;21;01mstats\u001b[39;00m \u001b[38;5;28;01mimport\u001b[39;00m shapiro\n\u001b[0;32m      5\u001b[0m \u001b[38;5;66;03m# normality test\u001b[39;00m\n\u001b[0;32m      6\u001b[0m stat, p \u001b[38;5;241m=\u001b[39m shapiro(data_new)\n",
      "\u001b[1;31mModuleNotFoundError\u001b[0m: No module named 'scipy'"
     ]
    }
   ],
   "source": [
    "#For Mps dataset\n",
    "\n",
    "# Shapiro-Wilk Test\n",
    "from scipy.stats import shapiro\n",
    "# normality test\n",
    "stat, p = shapiro(data_new)\n",
    "print('Statistics=%.3f, p=%.3f' % (stat, p))\n",
    "# interpret results\n",
    "alpha = 0.05\n",
    "if p > alpha:\n",
    "    print('Sample looks Gaussian (fail to reject H0)')\n",
    "else:\n",
    "    print('Sample does not look Gaussian (reject H0)')"
   ]
  },
  {
   "attachments": {},
   "cell_type": "markdown",
   "metadata": {},
   "source": [
    "Above the Shapiro-Wilk test cannot work for the Mps dataset since it's so big"
   ]
  },
  {
   "attachments": {},
   "cell_type": "markdown",
   "metadata": {},
   "source": [
    "ii. Kolmogorov-Smirnov Test\n",
    "\n",
    "To perform a Kolmogorov-Smirnov test in Python we can use the scipy.stats.kstest() for a one-sample test or scipy.stats.ks_2samp() for a two-sample test."
   ]
  },
  {
   "cell_type": "code",
   "execution_count": 65,
   "metadata": {},
   "outputs": [],
   "source": [
    "#a. One-sample test\n",
    "#For the year 1945 in the Mps dataset\n",
    "#First create an array of values from a normal distribution with mean and standard deviation of the \"1945\" variable\n",
    "import numpy as np\n",
    "data_norm = np.random.normal(np.mean(data_new['1945']), np.std(data_new['1945']), len(data_new))"
   ]
  },
  {
   "cell_type": "code",
   "execution_count": 69,
   "metadata": {},
   "outputs": [
    {
     "data": {
      "text/plain": [
       "<AxesSubplot: xlabel='1945', ylabel='Proportion'>"
      ]
     },
     "execution_count": 69,
     "metadata": {},
     "output_type": "execute_result"
    },
    {
     "data": {
      "image/png": "[encoded data removed]",
      "text/plain": [
       "<Figure size 640x480 with 1 Axes>"
      ]
     },
     "metadata": {},
     "output_type": "display_data"
    }
   ],
   "source": [
    "# plot the display of the two arrays\n",
    "import seaborn as sns\n",
    "\n",
    "sns.ecdfplot(data_new['1945'], c='blue')\n",
    "sns.ecdfplot(data_norm, c='green')\n"
   ]
  },
  {
   "attachments": {},
   "cell_type": "markdown",
   "metadata": {},
   "source": [
    "From the above, the distribution of the year \"1945\" (blue line) deviates from normal distribution (green line). "
   ]
  },
  {
   "cell_type": "code",
   "execution_count": 70,
   "metadata": {},
   "outputs": [
    {
     "name": "stdout",
     "output_type": "stream",
     "text": [
      "K-S statistic: 0.5\n",
      "p-value: 4.6262799228821375e-43\n"
     ]
    }
   ],
   "source": [
    "# Confirm using the K-S test for normal distribution\n",
    "from scipy.stats import kstest\n",
    "\n",
    "result = (kstest(data_new['1945'], cdf='norm'))\n",
    "\n",
    "print(f\"K-S statistic: {result[0]}\")\n",
    "print(f\"p-value: {result[1]}\")\n"
   ]
  },
  {
   "attachments": {},
   "cell_type": "markdown",
   "metadata": {},
   "source": [
    "From above, the K-S test confirms non-normal distribution, p<0.05"
   ]
  },
  {
   "cell_type": "code",
   "execution_count": 72,
   "metadata": {},
   "outputs": [],
   "source": [
    "#Do the same for \"depth\" in the Diamonds dataset\n",
    "#First create an array of values from a normal distribution with mean and standard deviation of the \"1945\" variable\n",
    "import numpy as np\n",
    "data2_norm = np.random.normal(np.mean(data2_new['depth']), np.std(data2_new['depth']), len(data2_new))"
   ]
  },
  {
   "cell_type": "code",
   "execution_count": 73,
   "metadata": {},
   "outputs": [
    {
     "data": {
      "text/plain": [
       "<AxesSubplot: xlabel='depth', ylabel='Proportion'>"
      ]
     },
     "execution_count": 73,
     "metadata": {},
     "output_type": "execute_result"
    },
    {
     "data": {
      "image/png": "[encoded data removed]",
      "text/plain": [
       "<Figure size 640x480 with 1 Axes>"
      ]
     },
     "metadata": {},
     "output_type": "display_data"
    }
   ],
   "source": [
    "# plot the display of the two arrays\n",
    "import seaborn as sns\n",
    "\n",
    "sns.ecdfplot(data2_new['depth'], c='blue')\n",
    "sns.ecdfplot(data2_norm, c='green')\n"
   ]
  },
  {
   "attachments": {},
   "cell_type": "markdown",
   "metadata": {},
   "source": [
    "Depth looks normally distributed above but we can confirm with K-S test"
   ]
  },
  {
   "cell_type": "code",
   "execution_count": 74,
   "metadata": {},
   "outputs": [
    {
     "name": "stdout",
     "output_type": "stream",
     "text": [
      "K-S statistic: 1.0\n",
      "p-value: 0.0\n"
     ]
    }
   ],
   "source": [
    "# Confirm using the K-S test for normal distribution\n",
    "from scipy.stats import kstest\n",
    "\n",
    "result = (kstest(data2_new['depth'], cdf='norm'))\n",
    "\n",
    "print(f\"K-S statistic: {result[0]}\")\n",
    "print(f\"p-value: {result[1]}\")"
   ]
  },
  {
   "attachments": {},
   "cell_type": "markdown",
   "metadata": {},
   "source": [
    "Stats confirm that depth is NOT normally distributed"
   ]
  },
  {
   "attachments": {},
   "cell_type": "markdown",
   "metadata": {},
   "source": [
    "## 5. HANDLING OUTLIERS ##"
   ]
  },
  {
   "attachments": {},
   "cell_type": "markdown",
   "metadata": {},
   "source": [
    "A. Setting Thresholds"
   ]
  },
  {
   "cell_type": "code",
   "execution_count": 78,
   "metadata": {},
   "outputs": [
    {
     "data": {
      "text/plain": [
       "4518     43.0\n",
       "10377    43.0\n",
       "6341     44.0\n",
       "16857    50.8\n",
       "36503    51.0\n",
       "         ... \n",
       "5698     56.9\n",
       "12269    56.9\n",
       "27633    56.9\n",
       "45034    56.9\n",
       "2        56.9\n",
       "Name: depth, Length: 191, dtype: float64"
      ]
     },
     "execution_count": 78,
     "metadata": {},
     "output_type": "execute_result"
    }
   ],
   "source": [
    "#Removing outliers for 'depth' using thresholds\n",
    "#Observations are missing before 56 and after 64\n",
    "# Finding nearest values to 56 mark\n",
    "data2_new['depth'][data2_new['depth']<57].sort_values(ascending=True)"
   ]
  },
  {
   "cell_type": "code",
   "execution_count": 80,
   "metadata": {},
   "outputs": [
    {
     "name": "stderr",
     "output_type": "stream",
     "text": [
      "C:\\Users\\USER\\AppData\\Local\\Temp\\ipykernel_13688\\4135174575.py:3: SettingWithCopyWarning: \n",
      "A value is trying to be set on a copy of a slice from a DataFrame\n",
      "\n",
      "See the caveats in the documentation: https://pandas.pydata.org/pandas-docs/stable/user_guide/indexing.html#returning-a-view-versus-a-copy\n",
      "  data2_new['depth'][data2_new['depth']<56] =51.0\n"
     ]
    },
    {
     "data": {
      "text/plain": [
       "<AxesSubplot: >"
      ]
     },
     "execution_count": 80,
     "metadata": {},
     "output_type": "execute_result"
    },
    {
     "data": {
      "image/png": "[encoded data removed]",
      "text/plain": [
       "<Figure size 640x480 with 1 Axes>"
      ]
     },
     "metadata": {},
     "output_type": "display_data"
    }
   ],
   "source": [
    "# Replacing outliers with nearest possibe value of 51.0\n",
    "#This will be used to replace any value less than 56.\n",
    "data2_new['depth'][data2_new['depth']<56] =51.0\n",
    "\n",
    "#Visually inspect the dataset\n",
    "# Plotting the histogram\n",
    "sns.boxplot(data2_new['depth'])"
   ]
  },
  {
   "attachments": {},
   "cell_type": "markdown",
   "metadata": {},
   "source": [
    "B. Using the IQR Method\n",
    "\n",
    "(Q1-1.5*IQR OR Q3 +1.5*IQR)\n",
    "Any number below or above constant 1.5 multiplied by interquartile range will be flagged as an outlier"
   ]
  },
  {
   "cell_type": "code",
   "execution_count": 81,
   "metadata": {},
   "outputs": [
    {
     "name": "stderr",
     "output_type": "stream",
     "text": [
      "C:\\Users\\USER\\AppData\\Local\\Temp\\ipykernel_13688\\832414462.py:2: FutureWarning: The default value of numeric_only in DataFrame.quantile is deprecated. In a future version, it will default to False. Select only valid columns or specify the value of numeric_only to silence this warning.\n",
      "  q1= data_new.quantile(0.25)\n",
      "C:\\Users\\USER\\AppData\\Local\\Temp\\ipykernel_13688\\832414462.py:3: FutureWarning: The default value of numeric_only in DataFrame.quantile is deprecated. In a future version, it will default to False. Select only valid columns or specify the value of numeric_only to silence this warning.\n",
      "  q3 = data_new.quantile(0.75)\n",
      "C:\\Users\\USER\\AppData\\Local\\Temp\\ipykernel_13688\\832414462.py:6: FutureWarning: Automatic reindexing on DataFrame vs Series comparisons is deprecated and will raise ValueError in a future version. Do `left, right = left.align(right, axis=1, copy=False)` before e.g. `left == right`\n",
      "  data_new_filtered = data_new[(data_new > q1 - (1.5 * iqr)) & (data_new < q3 + (1.5 * iqr))]\n"
     ]
    },
    {
     "ename": "NameError",
     "evalue": "name 'plt' is not defined",
     "output_type": "error",
     "traceback": [
      "\u001b[1;31m---------------------------------------------------------------------------\u001b[0m",
      "\u001b[1;31mNameError\u001b[0m                                 Traceback (most recent call last)",
      "Cell \u001b[1;32mIn[81], line 10\u001b[0m\n\u001b[0;32m      8\u001b[0m \u001b[39m#plot the dataset after removal of outliers\u001b[39;00m\n\u001b[0;32m      9\u001b[0m data_new_filtered\u001b[39m.\u001b[39mboxplot(figsize\u001b[39m=\u001b[39m(\u001b[39m20\u001b[39m,\u001b[39m8\u001b[39m))\n\u001b[1;32m---> 10\u001b[0m plt\u001b[39m.\u001b[39mshow()\n",
      "\u001b[1;31mNameError\u001b[0m: name 'plt' is not defined"
     ]
    },
    {
     "data": {
      "image/png": "[encoded data removed]",
      "text/plain": [
       "<Figure size 2000x800 with 1 Axes>"
      ]
     },
     "metadata": {},
     "output_type": "display_data"
    }
   ],
   "source": [
    "# Dropping outliers in the Mps dataset\n",
    "q1= data_new.quantile(0.25)\n",
    "q3 = data_new.quantile(0.75)\n",
    "iqr = q3-q1\n",
    "\n",
    "data_new_filtered = data_new[(data_new > q1 - (1.5 * iqr)) & (data_new < q3 + (1.5 * iqr))]\n",
    "\n",
    "#plot the dataset after removal of outliers\n",
    "data_new_filtered.boxplot(figsize=(20,8))\n",
    "plt.show()"
   ]
  },
  {
   "cell_type": "code",
   "execution_count": 2,
   "metadata": {},
   "outputs": [
    {
     "ename": "NameError",
     "evalue": "name 'data_new' is not defined",
     "output_type": "error",
     "traceback": [
      "\u001b[1;31m---------------------------------------------------------------------------\u001b[0m",
      "\u001b[1;31mNameError\u001b[0m                                 Traceback (most recent call last)",
      "Cell \u001b[1;32mIn[2], line 3\u001b[0m\n\u001b[0;32m      1\u001b[0m \u001b[38;5;66;03m#What the previous distribution looked like\u001b[39;00m\n\u001b[0;32m      2\u001b[0m \u001b[38;5;66;03m#plot the dataset prior to removal of outliers\u001b[39;00m\n\u001b[1;32m----> 3\u001b[0m \u001b[43mdata_new\u001b[49m\u001b[38;5;241m.\u001b[39mboxplot(figsize\u001b[38;5;241m=\u001b[39m(\u001b[38;5;241m20\u001b[39m,\u001b[38;5;241m8\u001b[39m))\n\u001b[0;32m      4\u001b[0m plt\u001b[38;5;241m.\u001b[39mshow()\n",
      "\u001b[1;31mNameError\u001b[0m: name 'data_new' is not defined"
     ]
    }
   ],
   "source": [
    "#What the previous distribution looked like\n",
    "#plot the dataset prior to removal of outliers\n",
    "data_new.boxplot(figsize=(20,8))\n",
    "plt.show()"
   ]
  },
  {
   "attachments": {},
   "cell_type": "markdown",
   "metadata": {},
   "source": [
    "From the above two boxplots, we can see a clear change in the amount of outliers"
   ]
  },
  {
   "cell_type": "markdown",
   "metadata": {},
   "source": [
    "If say you a Boolean variable (binary with 1 and 0, TRue, False, Yes, No) (Qualitative, category)\n",
    "\n",
    "Impute with mode \n"
   ]
  },
  {
   "cell_type": "markdown",
   "metadata": {},
   "source": [
    "Names:\n",
    "Group:"
   ]
  }
 ],
 "metadata": {
  "kernelspec": {
   "display_name": "Python 3",
   "language": "python",
   "name": "python3"
  },
  "language_info": {
   "codemirror_mode": {
    "name": "ipython",
    "version": 3
   },
   "file_extension": ".py",
   "mimetype": "text/x-python",
   "name": "python",
   "nbconvert_exporter": "python",
   "pygments_lexer": "ipython3",
   "version": "3.13.0"
  },
  "orig_nbformat": 4
 },
 "nbformat": 4,
 "nbformat_minor": 2
}
