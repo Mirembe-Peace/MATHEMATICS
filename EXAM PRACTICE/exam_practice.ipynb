{
 "cells": [
  {
   "cell_type": "markdown",
   "metadata": {},
   "source": [
    "# EXAM PRATICE"
   ]
  },
  {
   "cell_type": "markdown",
   "metadata": {},
   "source": [
    "Bayes' Theorem:\n",
    "\n",
    "Given that a diamond has a clarity grade of \"SI1\", what is the probability that its cut is \"Premium\" using Bayes’ theorem?\n",
    "Statistics Questions\n",
    "Descriptive Statistics:\n",
    "Probability Distributions:\n",
    "\n",
    "If diamond prices follow a normal distribution, estimate the probability that a randomly selected diamond costs less than $500.\n",
    "Assuming that the depth percentage is normally distributed, calculate the probability that a diamond's depth is between 60% and 65%.\n",
    "Hypothesis Testing:\n",
    "\n",
    "\n",
    "Test if diamonds with color grade \"D\" have a statistically different mean carat weight than those with color grade \"J\" at a 95% confidence level.\n",
    "Confidence Intervals:\n",
    "\n",
    "Construct a 95% confidence interval for the mean price of diamonds in the dataset.\n",
    "Calculate a 90% confidence interval for the average carat weight of diamonds with an \"Ideal\" cut.\n",
    "Correlation and Regression:\n",
    "\n",
    "Determine the correlation between carat and price. Interpret the result.\n",
    "Build a linear regression model to predict the price based on carat weight and interpret the coefficients.\n",
    "Chi-Square Test:\n",
    "\n",
    "\n"
   ]
  },
  {
   "cell_type": "code",
   "execution_count": 7,
   "metadata": {},
   "outputs": [],
   "source": [
    "import numpy as np\n",
    "import pandas as pd\n",
    "\n",
    "diamonds = pd.read_excel('diamonds_new.xlsx')"
   ]
  },
  {
   "cell_type": "code",
   "execution_count": 8,
   "metadata": {},
   "outputs": [
    {
     "name": "stdout",
     "output_type": "stream",
     "text": [
      "The probability of picking the ideal cut is: 0.3995919881305638\n"
     ]
    }
   ],
   "source": [
    "# What is the probability that a randomly selected diamond has an \"Ideal\" cut?\n",
    "event_of_ideal_cuts = len(diamonds[diamonds['cut'] == 'Ideal']['cut'])\n",
    "\n",
    "sample_space = len(diamonds)\n",
    "\n",
    "probability_of_ideal_cut = event_of_ideal_cuts/sample_space\n",
    "print('The probability of picking the ideal cut is:' ,probability_of_ideal_cut )"
   ]
  },
  {
   "cell_type": "code",
   "execution_count": 9,
   "metadata": {},
   "outputs": [
    {
     "name": "stdout",
     "output_type": "stream",
     "text": [
      "The probability of picking a diamond of color D is:  0.12563056379821957\n"
     ]
    }
   ],
   "source": [
    "# If a diamond is chosen at random, what is the probability that it has a color grade of \"D\"?\n",
    "probaility_of_picking_color_D = len(diamonds[diamonds['color'] == 'D']['color'])/len(diamonds)\n",
    "print('The probability of picking a diamond of color D is: ', probaility_of_picking_color_D)"
   ]
  },
  {
   "cell_type": "code",
   "execution_count": 10,
   "metadata": {},
   "outputs": [
    {
     "name": "stdout",
     "output_type": "stream",
     "text": [
      "the probability that a diamond weighing more than 1 carat has a \"Good\" cut:  0.3219820554649266\n"
     ]
    }
   ],
   "source": [
    "#What is the probability that a diamond weighing more than 1 carat has a \"Good\" cut?\n",
    "# filter out the joint data\n",
    "P = (diamonds['carat'] > 1) & (diamonds['cut'] == 'Good')\n",
    "R = len(diamonds[P]['cut'])\n",
    "P_given_R = R/len(diamonds[diamonds['cut'] == 'Good']['cut'])\n",
    "\n",
    "print('the probability that a diamond weighing more than 1 carat has a \"Good\" cut: ',P_given_R)"
   ]
  },
  {
   "cell_type": "code",
   "execution_count": 11,
   "metadata": {},
   "outputs": [
    {
     "name": "stdout",
     "output_type": "stream",
     "text": [
      "probability of getting clarity VS1 given the cut is Premium is:  0.24351126346718904\n"
     ]
    }
   ],
   "source": [
    "# Given that a diamond has a \"Premium\" cut, what is the probability that its clarity grade is \"VS1\"? \n",
    "# let the probability of getting clarity VS1 given the cut is Premium be C\n",
    "\n",
    "A = (diamonds['cut'] == 'Premium') & (diamonds['clarity'] == 'VS1') \n",
    "B = len(diamonds[A]['clarity'])\n",
    "\n",
    "C = B/len(diamonds[diamonds['clarity'] == 'VS1']['clarity'])\n",
    "\n",
    "print('probability of getting clarity VS1 given the cut is Premium is: ', C)"
   ]
  },
  {
   "cell_type": "code",
   "execution_count": 12,
   "metadata": {},
   "outputs": [
    {
     "name": "stdout",
     "output_type": "stream",
     "text": [
      "The joint probability is:  0.07234792284866469\n"
     ]
    }
   ],
   "source": [
    "#Calculate the joint probability of a diamond being \"Ideal\" cut and having a color grade of \"E\"\n",
    "Y = diamonds[(diamonds['cut'] == 'Ideal') & (diamonds['color'] == 'E')]\n",
    "U = len(Y)\n",
    "joint_probability = U/len(diamonds)\n",
    "print('The joint probability is: ', joint_probability)"
   ]
  },
  {
   "cell_type": "code",
   "execution_count": 13,
   "metadata": {},
   "outputs": [
    {
     "name": "stdout",
     "output_type": "stream",
     "text": [
      "The joint probability is:  0.012555637982195845\n"
     ]
    }
   ],
   "source": [
    "#What is the probability that a randomly selected diamond has a \"Very Good\" cut and a \"J\" color grade?\n",
    "N = diamonds[(diamonds['cut'] == 'Very Good') & (diamonds['color'] == 'J')]\n",
    "X = len(N)\n",
    "joint_prob = X/len(diamonds)\n",
    "print('The joint probability is: ', joint_prob)"
   ]
  },
  {
   "cell_type": "code",
   "execution_count": 14,
   "metadata": {},
   "outputs": [
    {
     "data": {
      "text/plain": [
       "count    53920.000000\n",
       "mean         0.798018\n",
       "std          0.474061\n",
       "min          0.200000\n",
       "25%          0.400000\n",
       "50%          0.700000\n",
       "75%          1.040000\n",
       "max          5.010000\n",
       "Name: carat, dtype: float64"
      ]
     },
     "execution_count": 14,
     "metadata": {},
     "output_type": "execute_result"
    }
   ],
   "source": [
    "diamonds['carat'].describe()"
   ]
  },
  {
   "cell_type": "code",
   "execution_count": 15,
   "metadata": {},
   "outputs": [
    {
     "data": {
      "text/plain": [
       "carat_bin\n",
       "0-1    0.675408\n",
       "1-2    0.289559\n",
       "2-3    0.034440\n",
       "3-4    0.000501\n",
       "4-5    0.000074\n",
       "5-6    0.000019\n",
       "Name: proportion, dtype: float64"
      ]
     },
     "execution_count": 15,
     "metadata": {},
     "output_type": "execute_result"
    }
   ],
   "source": [
    "# Calculate the marginal probabilities for the carat weight of diamonds.\n",
    "# dicretizing the carat data\n",
    "carat_bins = [0,1,2,3,4,5,6]\n",
    "carat_labels = ['0-1','1-2','2-3','3-4','4-5','5-6']\n",
    "\n",
    "diamonds['carat_bin'] = pd.cut(diamonds['carat'],  bins= carat_bins, labels = carat_labels, right=True)\n",
    "\n",
    "#Finding the probabilities of each bin\n",
    "marginal_probability = diamonds['carat_bin'].value_counts(normalize= True).sort_index()\n",
    "marginal_probability\n",
    "\n"
   ]
  },
  {
   "cell_type": "code",
   "execution_count": 16,
   "metadata": {},
   "outputs": [
    {
     "data": {
      "text/plain": [
       "np.float64(0.7980181750741839)"
      ]
     },
     "execution_count": 16,
     "metadata": {},
     "output_type": "execute_result"
    }
   ],
   "source": [
    "# Calculate the mean, median, and standard deviation for the carat weight of diamonds.\n",
    "\n",
    "carat_mean = diamonds['carat'].mean()\n",
    "carat_mean"
   ]
  },
  {
   "cell_type": "code",
   "execution_count": 2,
   "metadata": {},
   "outputs": [
    {
     "ename": "NameError",
     "evalue": "name 'diamonds' is not defined",
     "output_type": "error",
     "traceback": [
      "\u001b[1;31m---------------------------------------------------------------------------\u001b[0m",
      "\u001b[1;31mNameError\u001b[0m                                 Traceback (most recent call last)",
      "Cell \u001b[1;32mIn[2], line 1\u001b[0m\n\u001b[1;32m----> 1\u001b[0m carat_mod \u001b[38;5;241m=\u001b[39m \u001b[43mdiamonds\u001b[49m[\u001b[38;5;124m'\u001b[39m\u001b[38;5;124mcarat\u001b[39m\u001b[38;5;124m'\u001b[39m]\u001b[38;5;241m.\u001b[39mmode()\n\u001b[0;32m      2\u001b[0m carat_mod\n",
      "\u001b[1;31mNameError\u001b[0m: name 'diamonds' is not defined"
     ]
    }
   ],
   "source": [
    "carat_mod = diamonds['carat'].mode()\n",
    "carat_mod"
   ]
  },
  {
   "cell_type": "code",
   "execution_count": 18,
   "metadata": {},
   "outputs": [
    {
     "data": {
      "text/plain": [
       "np.float64(0.7)"
      ]
     },
     "execution_count": 18,
     "metadata": {},
     "output_type": "execute_result"
    }
   ],
   "source": [
    "carat_median = diamonds['carat'].median()\n",
    "carat_median"
   ]
  },
  {
   "cell_type": "code",
   "execution_count": 19,
   "metadata": {},
   "outputs": [
    {
     "data": {
      "text/plain": [
       "np.float64(0.4740609442434169)"
      ]
     },
     "execution_count": 19,
     "metadata": {},
     "output_type": "execute_result"
    }
   ],
   "source": [
    "carat_std = diamonds['carat'].std()\n",
    "carat_std"
   ]
  },
  {
   "cell_type": "code",
   "execution_count": 20,
   "metadata": {},
   "outputs": [
    {
     "data": {
      "text/plain": [
       "0    SI1\n",
       "Name: clarity, dtype: object"
      ]
     },
     "execution_count": 20,
     "metadata": {},
     "output_type": "execute_result"
    }
   ],
   "source": [
    "#What is the mode of the diamond clarity grades?\n",
    "clarity_mode = diamonds['clarity'].mode()\n",
    "clarity_mode"
   ]
  },
  {
   "cell_type": "code",
   "execution_count": 21,
   "metadata": {},
   "outputs": [],
   "source": [
    "# Conduct a hypothesis test to determine if the average price differs significantly between \"Ideal\" and \"Good\" cuts."
   ]
  },
  {
   "cell_type": "code",
   "execution_count": 22,
   "metadata": {},
   "outputs": [],
   "source": [
    "import matplotlib as plt\n",
    "import matplotlib.pyplot as plt\n",
    "import seaborn as sn\n",
    "import scipy.stats\n",
    "from scipy.stats import chi2_contingency"
   ]
  },
  {
   "cell_type": "code",
   "execution_count": 23,
   "metadata": {},
   "outputs": [
    {
     "name": "stdout",
     "output_type": "stream",
     "text": [
      "chi_square statistics 4393\n",
      "p_value 0\n",
      "degrees of freedom 28\n",
      "expected frequencies : \n",
      "  [[  22.1118138    53.41450297  389.74682864  274.29391691  243.73724036\n",
      "   365.63570104  109.00736276  151.05263353]\n",
      " [  67.39362018  162.79970326 1187.8921365   836.00830861  742.87596439\n",
      "  1114.40489614  332.23872404  460.38664688]\n",
      " [ 296.0976632   715.26965875 5219.07095697 3673.0495549  3263.86735905\n",
      "  4896.20063056 1459.70953264 2022.73464392]\n",
      " [ 189.49645772  457.75797478 3340.0988316  2350.67670623 2088.80845697\n",
      "  3133.46841617  934.18429154 1294.50886499]\n",
      " [ 165.9004451   400.75816024 2924.19124629 2057.97151335 1828.71097923\n",
      "  2743.29035608  817.86008902 1133.31721068]]\n"
     ]
    }
   ],
   "source": [
    "# Perform a chi-square test to determine if there is a significant association between cut and clarity.\n",
    "# generating a contingency table\n",
    "cut_clarity_crosstab = pd.crosstab(index= diamonds['cut'], columns= diamonds['clarity'])\n",
    "\n",
    "# the chi square test\n",
    "chi2_stat, p, dof, expected = scipy.stats.chi2_contingency(cut_clarity_crosstab)\n",
    "\n",
    "print(f'chi_square statistics {chi2_stat:.5g}')\n",
    "print(f'p_value {p:.5g}')\n",
    "print(f'degrees of freedom {dof}')\n",
    "print('expected frequencies : \\n ',expected)\n"
   ]
  },
  {
   "cell_type": "code",
   "execution_count": null,
   "metadata": {},
   "outputs": [],
   "source": []
  },
  {
   "cell_type": "code",
   "execution_count": null,
   "metadata": {},
   "outputs": [],
   "source": []
  }
 ],
 "metadata": {
  "kernelspec": {
   "display_name": "Python 3",
   "language": "python",
   "name": "python3"
  },
  "language_info": {
   "codemirror_mode": {
    "name": "ipython",
    "version": 3
   },
   "file_extension": ".py",
   "mimetype": "text/x-python",
   "name": "python",
   "nbconvert_exporter": "python",
   "pygments_lexer": "ipython3",
   "version": "3.13.0"
  }
 },
 "nbformat": 4,
 "nbformat_minor": 2
}
